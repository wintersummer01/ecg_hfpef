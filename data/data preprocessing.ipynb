{
 "cells": [
  {
   "cell_type": "code",
   "execution_count": 1,
   "id": "d8944281",
   "metadata": {},
   "outputs": [],
   "source": [
    "# import modules\n",
    "\n",
    "import os\n",
    "import datetime\n",
    "import time\n",
    "from tqdm import tqdm\n",
    "import numpy as np\n",
    "import pandas as pd\n",
    "from concurrent.futures import ThreadPoolExecutor"
   ]
  },
  {
   "cell_type": "markdown",
   "id": "2b8d4650",
   "metadata": {},
   "source": [
    "### 1. Basic Processing"
   ]
  },
  {
   "cell_type": "code",
   "execution_count": 2,
   "id": "50965972",
   "metadata": {},
   "outputs": [
    {
     "ename": "FileNotFoundError",
     "evalue": "[Errno 2] No such file or directory: '/home/ubuntu/ecg_mount/H2FPEF-echo_.csv'",
     "output_type": "error",
     "traceback": [
      "\u001b[0;31m---------------------------------------------------------------------------\u001b[0m",
      "\u001b[0;31mFileNotFoundError\u001b[0m                         Traceback (most recent call last)",
      "Cell \u001b[0;32mIn[2], line 10\u001b[0m\n\u001b[1;32m      7\u001b[0m keys \u001b[38;5;241m=\u001b[39m [\u001b[38;5;124m'\u001b[39m\u001b[38;5;124mals\u001b[39m\u001b[38;5;124m'\u001b[39m, \u001b[38;5;124m'\u001b[39m\u001b[38;5;124mfname\u001b[39m\u001b[38;5;124m'\u001b[39m, \u001b[38;5;124m'\u001b[39m\u001b[38;5;124mscore\u001b[39m\u001b[38;5;124m'\u001b[39m]\n\u001b[1;32m      8\u001b[0m crit_keys \u001b[38;5;241m=\u001b[39m [\u001b[38;5;124m'\u001b[39m\u001b[38;5;124mals\u001b[39m\u001b[38;5;124m'\u001b[39m, \u001b[38;5;124m'\u001b[39m\u001b[38;5;124mfname\u001b[39m\u001b[38;5;124m'\u001b[39m, \u001b[38;5;124m'\u001b[39m\u001b[38;5;124mBMI\u001b[39m\u001b[38;5;124m'\u001b[39m, \u001b[38;5;124m'\u001b[39m\u001b[38;5;124mhypertensive\u001b[39m\u001b[38;5;124m'\u001b[39m, \u001b[38;5;124m'\u001b[39m\u001b[38;5;124mafib\u001b[39m\u001b[38;5;124m'\u001b[39m, \u001b[38;5;124m'\u001b[39m\u001b[38;5;124mpulm hyper\u001b[39m\u001b[38;5;124m'\u001b[39m, \u001b[38;5;124m'\u001b[39m\u001b[38;5;124mage\u001b[39m\u001b[38;5;124m'\u001b[39m, \u001b[38;5;124m'\u001b[39m\u001b[38;5;124mpressure\u001b[39m\u001b[38;5;124m'\u001b[39m]\n\u001b[0;32m---> 10\u001b[0m score_data \u001b[38;5;241m=\u001b[39m \u001b[43mpd\u001b[49m\u001b[38;5;241;43m.\u001b[39;49m\u001b[43mread_csv\u001b[49m\u001b[43m(\u001b[49m\u001b[38;5;124;43mf\u001b[39;49m\u001b[38;5;124;43m'\u001b[39;49m\u001b[38;5;132;43;01m{\u001b[39;49;00m\u001b[43mraw_data_root\u001b[49m\u001b[38;5;132;43;01m}\u001b[39;49;00m\u001b[38;5;124;43m/H2FPEF-echo_.csv\u001b[39;49m\u001b[38;5;124;43m'\u001b[39;49m\u001b[43m,\u001b[49m\u001b[43m \u001b[49m\u001b[43mencoding\u001b[49m\u001b[38;5;241;43m=\u001b[39;49m\u001b[38;5;124;43m'\u001b[39;49m\u001b[38;5;124;43mcp949\u001b[39;49m\u001b[38;5;124;43m'\u001b[39;49m\u001b[43m,\u001b[49m\u001b[43m \u001b[49m\u001b[43mlow_memory\u001b[49m\u001b[38;5;241;43m=\u001b[39;49m\u001b[38;5;28;43;01mFalse\u001b[39;49;00m\u001b[43m)\u001b[49m\n\u001b[1;32m     11\u001b[0m fname_data \u001b[38;5;241m=\u001b[39m pd\u001b[38;5;241m.\u001b[39mread_csv(\u001b[38;5;124mf\u001b[39m\u001b[38;5;124m'\u001b[39m\u001b[38;5;132;01m{\u001b[39;00mraw_data_root\u001b[38;5;132;01m}\u001b[39;00m\u001b[38;5;124m/230111_SevMUSE_EKG_MasterTable.csv\u001b[39m\u001b[38;5;124m'\u001b[39m, low_memory\u001b[38;5;241m=\u001b[39m\u001b[38;5;28;01mFalse\u001b[39;00m)\n\u001b[1;32m     13\u001b[0m num_datas \u001b[38;5;241m=\u001b[39m \u001b[38;5;28mlen\u001b[39m(score_data)\n",
      "File \u001b[0;32m/opt/conda/envs/pytorch/lib/python3.9/site-packages/pandas/util/_decorators.py:311\u001b[0m, in \u001b[0;36mdeprecate_nonkeyword_arguments.<locals>.decorate.<locals>.wrapper\u001b[0;34m(*args, **kwargs)\u001b[0m\n\u001b[1;32m    305\u001b[0m \u001b[38;5;28;01mif\u001b[39;00m \u001b[38;5;28mlen\u001b[39m(args) \u001b[38;5;241m>\u001b[39m num_allow_args:\n\u001b[1;32m    306\u001b[0m     warnings\u001b[38;5;241m.\u001b[39mwarn(\n\u001b[1;32m    307\u001b[0m         msg\u001b[38;5;241m.\u001b[39mformat(arguments\u001b[38;5;241m=\u001b[39marguments),\n\u001b[1;32m    308\u001b[0m         \u001b[38;5;167;01mFutureWarning\u001b[39;00m,\n\u001b[1;32m    309\u001b[0m         stacklevel\u001b[38;5;241m=\u001b[39mstacklevel,\n\u001b[1;32m    310\u001b[0m     )\n\u001b[0;32m--> 311\u001b[0m \u001b[38;5;28;01mreturn\u001b[39;00m \u001b[43mfunc\u001b[49m\u001b[43m(\u001b[49m\u001b[38;5;241;43m*\u001b[39;49m\u001b[43margs\u001b[49m\u001b[43m,\u001b[49m\u001b[43m \u001b[49m\u001b[38;5;241;43m*\u001b[39;49m\u001b[38;5;241;43m*\u001b[39;49m\u001b[43mkwargs\u001b[49m\u001b[43m)\u001b[49m\n",
      "File \u001b[0;32m/opt/conda/envs/pytorch/lib/python3.9/site-packages/pandas/io/parsers/readers.py:678\u001b[0m, in \u001b[0;36mread_csv\u001b[0;34m(filepath_or_buffer, sep, delimiter, header, names, index_col, usecols, squeeze, prefix, mangle_dupe_cols, dtype, engine, converters, true_values, false_values, skipinitialspace, skiprows, skipfooter, nrows, na_values, keep_default_na, na_filter, verbose, skip_blank_lines, parse_dates, infer_datetime_format, keep_date_col, date_parser, dayfirst, cache_dates, iterator, chunksize, compression, thousands, decimal, lineterminator, quotechar, quoting, doublequote, escapechar, comment, encoding, encoding_errors, dialect, error_bad_lines, warn_bad_lines, on_bad_lines, delim_whitespace, low_memory, memory_map, float_precision, storage_options)\u001b[0m\n\u001b[1;32m    663\u001b[0m kwds_defaults \u001b[38;5;241m=\u001b[39m _refine_defaults_read(\n\u001b[1;32m    664\u001b[0m     dialect,\n\u001b[1;32m    665\u001b[0m     delimiter,\n\u001b[0;32m   (...)\u001b[0m\n\u001b[1;32m    674\u001b[0m     defaults\u001b[38;5;241m=\u001b[39m{\u001b[38;5;124m\"\u001b[39m\u001b[38;5;124mdelimiter\u001b[39m\u001b[38;5;124m\"\u001b[39m: \u001b[38;5;124m\"\u001b[39m\u001b[38;5;124m,\u001b[39m\u001b[38;5;124m\"\u001b[39m},\n\u001b[1;32m    675\u001b[0m )\n\u001b[1;32m    676\u001b[0m kwds\u001b[38;5;241m.\u001b[39mupdate(kwds_defaults)\n\u001b[0;32m--> 678\u001b[0m \u001b[38;5;28;01mreturn\u001b[39;00m \u001b[43m_read\u001b[49m\u001b[43m(\u001b[49m\u001b[43mfilepath_or_buffer\u001b[49m\u001b[43m,\u001b[49m\u001b[43m \u001b[49m\u001b[43mkwds\u001b[49m\u001b[43m)\u001b[49m\n",
      "File \u001b[0;32m/opt/conda/envs/pytorch/lib/python3.9/site-packages/pandas/io/parsers/readers.py:575\u001b[0m, in \u001b[0;36m_read\u001b[0;34m(filepath_or_buffer, kwds)\u001b[0m\n\u001b[1;32m    572\u001b[0m _validate_names(kwds\u001b[38;5;241m.\u001b[39mget(\u001b[38;5;124m\"\u001b[39m\u001b[38;5;124mnames\u001b[39m\u001b[38;5;124m\"\u001b[39m, \u001b[38;5;28;01mNone\u001b[39;00m))\n\u001b[1;32m    574\u001b[0m \u001b[38;5;66;03m# Create the parser.\u001b[39;00m\n\u001b[0;32m--> 575\u001b[0m parser \u001b[38;5;241m=\u001b[39m \u001b[43mTextFileReader\u001b[49m\u001b[43m(\u001b[49m\u001b[43mfilepath_or_buffer\u001b[49m\u001b[43m,\u001b[49m\u001b[43m \u001b[49m\u001b[38;5;241;43m*\u001b[39;49m\u001b[38;5;241;43m*\u001b[39;49m\u001b[43mkwds\u001b[49m\u001b[43m)\u001b[49m\n\u001b[1;32m    577\u001b[0m \u001b[38;5;28;01mif\u001b[39;00m chunksize \u001b[38;5;129;01mor\u001b[39;00m iterator:\n\u001b[1;32m    578\u001b[0m     \u001b[38;5;28;01mreturn\u001b[39;00m parser\n",
      "File \u001b[0;32m/opt/conda/envs/pytorch/lib/python3.9/site-packages/pandas/io/parsers/readers.py:932\u001b[0m, in \u001b[0;36mTextFileReader.__init__\u001b[0;34m(self, f, engine, **kwds)\u001b[0m\n\u001b[1;32m    929\u001b[0m     \u001b[38;5;28mself\u001b[39m\u001b[38;5;241m.\u001b[39moptions[\u001b[38;5;124m\"\u001b[39m\u001b[38;5;124mhas_index_names\u001b[39m\u001b[38;5;124m\"\u001b[39m] \u001b[38;5;241m=\u001b[39m kwds[\u001b[38;5;124m\"\u001b[39m\u001b[38;5;124mhas_index_names\u001b[39m\u001b[38;5;124m\"\u001b[39m]\n\u001b[1;32m    931\u001b[0m \u001b[38;5;28mself\u001b[39m\u001b[38;5;241m.\u001b[39mhandles: IOHandles \u001b[38;5;241m|\u001b[39m \u001b[38;5;28;01mNone\u001b[39;00m \u001b[38;5;241m=\u001b[39m \u001b[38;5;28;01mNone\u001b[39;00m\n\u001b[0;32m--> 932\u001b[0m \u001b[38;5;28mself\u001b[39m\u001b[38;5;241m.\u001b[39m_engine \u001b[38;5;241m=\u001b[39m \u001b[38;5;28;43mself\u001b[39;49m\u001b[38;5;241;43m.\u001b[39;49m\u001b[43m_make_engine\u001b[49m\u001b[43m(\u001b[49m\u001b[43mf\u001b[49m\u001b[43m,\u001b[49m\u001b[43m \u001b[49m\u001b[38;5;28;43mself\u001b[39;49m\u001b[38;5;241;43m.\u001b[39;49m\u001b[43mengine\u001b[49m\u001b[43m)\u001b[49m\n",
      "File \u001b[0;32m/opt/conda/envs/pytorch/lib/python3.9/site-packages/pandas/io/parsers/readers.py:1216\u001b[0m, in \u001b[0;36mTextFileReader._make_engine\u001b[0;34m(self, f, engine)\u001b[0m\n\u001b[1;32m   1212\u001b[0m     mode \u001b[38;5;241m=\u001b[39m \u001b[38;5;124m\"\u001b[39m\u001b[38;5;124mrb\u001b[39m\u001b[38;5;124m\"\u001b[39m\n\u001b[1;32m   1213\u001b[0m \u001b[38;5;66;03m# error: No overload variant of \"get_handle\" matches argument types\u001b[39;00m\n\u001b[1;32m   1214\u001b[0m \u001b[38;5;66;03m# \"Union[str, PathLike[str], ReadCsvBuffer[bytes], ReadCsvBuffer[str]]\"\u001b[39;00m\n\u001b[1;32m   1215\u001b[0m \u001b[38;5;66;03m# , \"str\", \"bool\", \"Any\", \"Any\", \"Any\", \"Any\", \"Any\"\u001b[39;00m\n\u001b[0;32m-> 1216\u001b[0m \u001b[38;5;28mself\u001b[39m\u001b[38;5;241m.\u001b[39mhandles \u001b[38;5;241m=\u001b[39m \u001b[43mget_handle\u001b[49m\u001b[43m(\u001b[49m\u001b[43m  \u001b[49m\u001b[38;5;66;43;03m# type: ignore[call-overload]\u001b[39;49;00m\n\u001b[1;32m   1217\u001b[0m \u001b[43m    \u001b[49m\u001b[43mf\u001b[49m\u001b[43m,\u001b[49m\n\u001b[1;32m   1218\u001b[0m \u001b[43m    \u001b[49m\u001b[43mmode\u001b[49m\u001b[43m,\u001b[49m\n\u001b[1;32m   1219\u001b[0m \u001b[43m    \u001b[49m\u001b[43mencoding\u001b[49m\u001b[38;5;241;43m=\u001b[39;49m\u001b[38;5;28;43mself\u001b[39;49m\u001b[38;5;241;43m.\u001b[39;49m\u001b[43moptions\u001b[49m\u001b[38;5;241;43m.\u001b[39;49m\u001b[43mget\u001b[49m\u001b[43m(\u001b[49m\u001b[38;5;124;43m\"\u001b[39;49m\u001b[38;5;124;43mencoding\u001b[39;49m\u001b[38;5;124;43m\"\u001b[39;49m\u001b[43m,\u001b[49m\u001b[43m \u001b[49m\u001b[38;5;28;43;01mNone\u001b[39;49;00m\u001b[43m)\u001b[49m\u001b[43m,\u001b[49m\n\u001b[1;32m   1220\u001b[0m \u001b[43m    \u001b[49m\u001b[43mcompression\u001b[49m\u001b[38;5;241;43m=\u001b[39;49m\u001b[38;5;28;43mself\u001b[39;49m\u001b[38;5;241;43m.\u001b[39;49m\u001b[43moptions\u001b[49m\u001b[38;5;241;43m.\u001b[39;49m\u001b[43mget\u001b[49m\u001b[43m(\u001b[49m\u001b[38;5;124;43m\"\u001b[39;49m\u001b[38;5;124;43mcompression\u001b[39;49m\u001b[38;5;124;43m\"\u001b[39;49m\u001b[43m,\u001b[49m\u001b[43m \u001b[49m\u001b[38;5;28;43;01mNone\u001b[39;49;00m\u001b[43m)\u001b[49m\u001b[43m,\u001b[49m\n\u001b[1;32m   1221\u001b[0m \u001b[43m    \u001b[49m\u001b[43mmemory_map\u001b[49m\u001b[38;5;241;43m=\u001b[39;49m\u001b[38;5;28;43mself\u001b[39;49m\u001b[38;5;241;43m.\u001b[39;49m\u001b[43moptions\u001b[49m\u001b[38;5;241;43m.\u001b[39;49m\u001b[43mget\u001b[49m\u001b[43m(\u001b[49m\u001b[38;5;124;43m\"\u001b[39;49m\u001b[38;5;124;43mmemory_map\u001b[39;49m\u001b[38;5;124;43m\"\u001b[39;49m\u001b[43m,\u001b[49m\u001b[43m \u001b[49m\u001b[38;5;28;43;01mFalse\u001b[39;49;00m\u001b[43m)\u001b[49m\u001b[43m,\u001b[49m\n\u001b[1;32m   1222\u001b[0m \u001b[43m    \u001b[49m\u001b[43mis_text\u001b[49m\u001b[38;5;241;43m=\u001b[39;49m\u001b[43mis_text\u001b[49m\u001b[43m,\u001b[49m\n\u001b[1;32m   1223\u001b[0m \u001b[43m    \u001b[49m\u001b[43merrors\u001b[49m\u001b[38;5;241;43m=\u001b[39;49m\u001b[38;5;28;43mself\u001b[39;49m\u001b[38;5;241;43m.\u001b[39;49m\u001b[43moptions\u001b[49m\u001b[38;5;241;43m.\u001b[39;49m\u001b[43mget\u001b[49m\u001b[43m(\u001b[49m\u001b[38;5;124;43m\"\u001b[39;49m\u001b[38;5;124;43mencoding_errors\u001b[39;49m\u001b[38;5;124;43m\"\u001b[39;49m\u001b[43m,\u001b[49m\u001b[43m \u001b[49m\u001b[38;5;124;43m\"\u001b[39;49m\u001b[38;5;124;43mstrict\u001b[39;49m\u001b[38;5;124;43m\"\u001b[39;49m\u001b[43m)\u001b[49m\u001b[43m,\u001b[49m\n\u001b[1;32m   1224\u001b[0m \u001b[43m    \u001b[49m\u001b[43mstorage_options\u001b[49m\u001b[38;5;241;43m=\u001b[39;49m\u001b[38;5;28;43mself\u001b[39;49m\u001b[38;5;241;43m.\u001b[39;49m\u001b[43moptions\u001b[49m\u001b[38;5;241;43m.\u001b[39;49m\u001b[43mget\u001b[49m\u001b[43m(\u001b[49m\u001b[38;5;124;43m\"\u001b[39;49m\u001b[38;5;124;43mstorage_options\u001b[39;49m\u001b[38;5;124;43m\"\u001b[39;49m\u001b[43m,\u001b[49m\u001b[43m \u001b[49m\u001b[38;5;28;43;01mNone\u001b[39;49;00m\u001b[43m)\u001b[49m\u001b[43m,\u001b[49m\n\u001b[1;32m   1225\u001b[0m \u001b[43m\u001b[49m\u001b[43m)\u001b[49m\n\u001b[1;32m   1226\u001b[0m \u001b[38;5;28;01massert\u001b[39;00m \u001b[38;5;28mself\u001b[39m\u001b[38;5;241m.\u001b[39mhandles \u001b[38;5;129;01mis\u001b[39;00m \u001b[38;5;129;01mnot\u001b[39;00m \u001b[38;5;28;01mNone\u001b[39;00m\n\u001b[1;32m   1227\u001b[0m f \u001b[38;5;241m=\u001b[39m \u001b[38;5;28mself\u001b[39m\u001b[38;5;241m.\u001b[39mhandles\u001b[38;5;241m.\u001b[39mhandle\n",
      "File \u001b[0;32m/opt/conda/envs/pytorch/lib/python3.9/site-packages/pandas/io/common.py:786\u001b[0m, in \u001b[0;36mget_handle\u001b[0;34m(path_or_buf, mode, encoding, compression, memory_map, is_text, errors, storage_options)\u001b[0m\n\u001b[1;32m    781\u001b[0m \u001b[38;5;28;01melif\u001b[39;00m \u001b[38;5;28misinstance\u001b[39m(handle, \u001b[38;5;28mstr\u001b[39m):\n\u001b[1;32m    782\u001b[0m     \u001b[38;5;66;03m# Check whether the filename is to be opened in binary mode.\u001b[39;00m\n\u001b[1;32m    783\u001b[0m     \u001b[38;5;66;03m# Binary mode does not support 'encoding' and 'newline'.\u001b[39;00m\n\u001b[1;32m    784\u001b[0m     \u001b[38;5;28;01mif\u001b[39;00m ioargs\u001b[38;5;241m.\u001b[39mencoding \u001b[38;5;129;01mand\u001b[39;00m \u001b[38;5;124m\"\u001b[39m\u001b[38;5;124mb\u001b[39m\u001b[38;5;124m\"\u001b[39m \u001b[38;5;129;01mnot\u001b[39;00m \u001b[38;5;129;01min\u001b[39;00m ioargs\u001b[38;5;241m.\u001b[39mmode:\n\u001b[1;32m    785\u001b[0m         \u001b[38;5;66;03m# Encoding\u001b[39;00m\n\u001b[0;32m--> 786\u001b[0m         handle \u001b[38;5;241m=\u001b[39m \u001b[38;5;28;43mopen\u001b[39;49m\u001b[43m(\u001b[49m\n\u001b[1;32m    787\u001b[0m \u001b[43m            \u001b[49m\u001b[43mhandle\u001b[49m\u001b[43m,\u001b[49m\n\u001b[1;32m    788\u001b[0m \u001b[43m            \u001b[49m\u001b[43mioargs\u001b[49m\u001b[38;5;241;43m.\u001b[39;49m\u001b[43mmode\u001b[49m\u001b[43m,\u001b[49m\n\u001b[1;32m    789\u001b[0m \u001b[43m            \u001b[49m\u001b[43mencoding\u001b[49m\u001b[38;5;241;43m=\u001b[39;49m\u001b[43mioargs\u001b[49m\u001b[38;5;241;43m.\u001b[39;49m\u001b[43mencoding\u001b[49m\u001b[43m,\u001b[49m\n\u001b[1;32m    790\u001b[0m \u001b[43m            \u001b[49m\u001b[43merrors\u001b[49m\u001b[38;5;241;43m=\u001b[39;49m\u001b[43merrors\u001b[49m\u001b[43m,\u001b[49m\n\u001b[1;32m    791\u001b[0m \u001b[43m            \u001b[49m\u001b[43mnewline\u001b[49m\u001b[38;5;241;43m=\u001b[39;49m\u001b[38;5;124;43m\"\u001b[39;49m\u001b[38;5;124;43m\"\u001b[39;49m\u001b[43m,\u001b[49m\n\u001b[1;32m    792\u001b[0m \u001b[43m        \u001b[49m\u001b[43m)\u001b[49m\n\u001b[1;32m    793\u001b[0m     \u001b[38;5;28;01melse\u001b[39;00m:\n\u001b[1;32m    794\u001b[0m         \u001b[38;5;66;03m# Binary mode\u001b[39;00m\n\u001b[1;32m    795\u001b[0m         handle \u001b[38;5;241m=\u001b[39m \u001b[38;5;28mopen\u001b[39m(handle, ioargs\u001b[38;5;241m.\u001b[39mmode)\n",
      "\u001b[0;31mFileNotFoundError\u001b[0m: [Errno 2] No such file or directory: '/home/ubuntu/ecg_mount/H2FPEF-echo_.csv'"
     ]
    }
   ],
   "source": [
    "# Useful variables & data loading\n",
    "\n",
    "raw_data_root = '/home/ubuntu/ecg_mount'\n",
    "proc_data_root = '/home/ubuntu/ecg_hfpef/data/processed_data'\n",
    "file_root = './fname_score_pair.csv'\n",
    "crit_file_root = './fname_crit_pair.csv'\n",
    "keys = ['als', 'fname', 'score']\n",
    "crit_keys = ['als', 'fname', 'BMI', 'hypertensive', 'afib', 'pulm hyper', 'age', 'pressure']\n",
    "\n",
    "score_data = pd.read_csv(f'{raw_data_root}/H2FPEF-echo_.csv', encoding='cp949', low_memory=False)\n",
    "fname_data = pd.read_csv(f'{raw_data_root}/230111_SevMUSE_EKG_MasterTable.csv', low_memory=False)\n",
    "\n",
    "num_datas = len(score_data)\n",
    "batch_size = 20000\n",
    "num_batches = num_datas//batch_size + 1"
   ]
  },
  {
   "cell_type": "code",
   "execution_count": 3,
   "id": "f4d151b7",
   "metadata": {},
   "outputs": [],
   "source": [
    "# Reset CSV File. \n",
    "# Please be careful to run the cell. \n",
    "\n",
    "if os.path.isfile(file_root):\n",
    "    os.remove(file_root)\n",
    "\n",
    "empty = pd.DataFrame(columns = keys)\n",
    "empty.to_csv(file_root)"
   ]
  },
  {
   "cell_type": "code",
   "execution_count": 4,
   "id": "48c815b7",
   "metadata": {},
   "outputs": [],
   "source": [
    "# A function that processes single batch\n",
    "# From mini_score_df, get fname from fname_df, then append into main_df\n",
    "\n",
    "def dataBatchProcessing(main_df, mini_score_df, fname_df):\n",
    "    for i in tqdm(range(len(mini_score_df))):\n",
    "        als = mini_score_df.iloc[i]['AlsUnitNo']\n",
    "        ecg_fnames = fname_df.query(f'AlsUnitNo=={als}')\n",
    "        \n",
    "        # Skip if there is no ecg data, or als is already in main_df\n",
    "        if len(ecg_fnames) == 0 or als in main_df['als'].tolist():\n",
    "            continue\n",
    "        \n",
    "        # Find ecg filename that has minimum date diffrence. \n",
    "        fname_index = None\n",
    "        echo_date = datetime.datetime.strptime(mini_score_df.iloc[i]['STUDYDATE'], '%Y-%m-%d')\n",
    "        min_date_diff = 9999999\n",
    "        for j in range(len(ecg_fnames)):\n",
    "            # Check if the waveform has shape (5000, 12)\n",
    "            if ecg_fnames.iloc[j]['waveform_shape'] != '(5000, 12)':\n",
    "                continue\n",
    "            # Minimum data difference\n",
    "            ecg_date = datetime.datetime.strptime(ecg_fnames.iloc[j]['AcqDate'], '%Y-%m-%d')\n",
    "            date_diff = abs((echo_date - ecg_date).days)\n",
    "            if date_diff < min_date_diff:\n",
    "                min_date_diff = date_diff\n",
    "                fname_index = j\n",
    "        # Skip if there is no ecg data that matches the waveform shape (5000, 12)\n",
    "        if fname_index == None:\n",
    "            continue\n",
    "                \n",
    "        # Save and append to the main stream\n",
    "        fname = ecg_fnames.iloc[fname_index]['fname']\n",
    "        score = mini_score_df.iloc[i]['score_H2FPEF']\n",
    "        temp = pd.DataFrame({'als':als, 'fname':fname, 'score':score}, index=[0])\n",
    "        main_df = pd.concat([main_df, temp], ignore_index=True)\n",
    "    \n",
    "    return main_df"
   ]
  },
  {
   "cell_type": "code",
   "execution_count": 5,
   "id": "f749e015",
   "metadata": {},
   "outputs": [],
   "source": [
    "# Main processing function.\n",
    "# divides data into batches and runs dataBatchProcessing for each batch\n",
    "\n",
    "def main(score, fname, num_data, bs, end_batch, file_root, start_batch=0):\n",
    "    for i in range(start_batch, end_batch):\n",
    "        # Get size of the batch for the minibatch index\n",
    "        if i == end_batch:\n",
    "            size = num_data%bs\n",
    "        else:\n",
    "            size = bs\n",
    "        \n",
    "        # Read mainstream from csv\n",
    "        data = pd.read_csv(file_root)\n",
    "        mini_batch = score.iloc[i*bs:i*bs+size]\n",
    "        \n",
    "        # Process and save to csv\n",
    "        print(f'Processing batch {i}/{end_batch}')\n",
    "        data = dataBatchProcessing(data, mini_batch, fname)\n",
    "        data.to_csv(file_root)\n",
    "        print(f'Done batch {i} processing\\n')"
   ]
  },
  {
   "cell_type": "code",
   "execution_count": 6,
   "id": "c72d3a2f",
   "metadata": {},
   "outputs": [
    {
     "name": "stdout",
     "output_type": "stream",
     "text": [
      "Processing batch 0/17\n"
     ]
    },
    {
     "name": "stderr",
     "output_type": "stream",
     "text": [
      "100%|█████████████████████████████████████| 20000/20000 [08:43<00:00, 38.19it/s]\n"
     ]
    },
    {
     "name": "stdout",
     "output_type": "stream",
     "text": [
      "Done batch 0 processing\n",
      "\n",
      "Processing batch 1/17\n"
     ]
    },
    {
     "name": "stderr",
     "output_type": "stream",
     "text": [
      "100%|█████████████████████████████████████| 20000/20000 [07:12<00:00, 46.25it/s]\n"
     ]
    },
    {
     "name": "stdout",
     "output_type": "stream",
     "text": [
      "Done batch 1 processing\n",
      "\n",
      "Processing batch 2/17\n"
     ]
    },
    {
     "name": "stderr",
     "output_type": "stream",
     "text": [
      "100%|█████████████████████████████████████| 20000/20000 [07:23<00:00, 45.09it/s]\n"
     ]
    },
    {
     "name": "stdout",
     "output_type": "stream",
     "text": [
      "Done batch 2 processing\n",
      "\n",
      "Processing batch 3/17\n"
     ]
    },
    {
     "name": "stderr",
     "output_type": "stream",
     "text": [
      "100%|█████████████████████████████████████| 20000/20000 [07:44<00:00, 43.03it/s]\n"
     ]
    },
    {
     "name": "stdout",
     "output_type": "stream",
     "text": [
      "Done batch 3 processing\n",
      "\n",
      "Processing batch 4/17\n"
     ]
    },
    {
     "name": "stderr",
     "output_type": "stream",
     "text": [
      "100%|█████████████████████████████████████| 20000/20000 [07:59<00:00, 41.73it/s]\n"
     ]
    },
    {
     "name": "stdout",
     "output_type": "stream",
     "text": [
      "Done batch 4 processing\n",
      "\n",
      "Processing batch 5/17\n"
     ]
    },
    {
     "name": "stderr",
     "output_type": "stream",
     "text": [
      "100%|█████████████████████████████████████| 20000/20000 [08:24<00:00, 39.66it/s]\n"
     ]
    },
    {
     "name": "stdout",
     "output_type": "stream",
     "text": [
      "Done batch 5 processing\n",
      "\n",
      "Processing batch 6/17\n"
     ]
    },
    {
     "name": "stderr",
     "output_type": "stream",
     "text": [
      "100%|█████████████████████████████████████| 20000/20000 [08:42<00:00, 38.30it/s]\n"
     ]
    },
    {
     "name": "stdout",
     "output_type": "stream",
     "text": [
      "Done batch 6 processing\n",
      "\n",
      "Processing batch 7/17\n"
     ]
    },
    {
     "name": "stderr",
     "output_type": "stream",
     "text": [
      "100%|█████████████████████████████████████| 20000/20000 [08:43<00:00, 38.19it/s]\n"
     ]
    },
    {
     "name": "stdout",
     "output_type": "stream",
     "text": [
      "Done batch 7 processing\n",
      "\n",
      "Processing batch 8/17\n"
     ]
    },
    {
     "name": "stderr",
     "output_type": "stream",
     "text": [
      "100%|█████████████████████████████████████| 20000/20000 [08:48<00:00, 37.87it/s]\n"
     ]
    },
    {
     "name": "stdout",
     "output_type": "stream",
     "text": [
      "Done batch 8 processing\n",
      "\n",
      "Processing batch 9/17\n"
     ]
    },
    {
     "name": "stderr",
     "output_type": "stream",
     "text": [
      "100%|█████████████████████████████████████| 20000/20000 [08:55<00:00, 37.33it/s]\n"
     ]
    },
    {
     "name": "stdout",
     "output_type": "stream",
     "text": [
      "Done batch 9 processing\n",
      "\n",
      "Processing batch 10/17\n"
     ]
    },
    {
     "name": "stderr",
     "output_type": "stream",
     "text": [
      "100%|█████████████████████████████████████| 20000/20000 [09:38<00:00, 34.56it/s]\n"
     ]
    },
    {
     "name": "stdout",
     "output_type": "stream",
     "text": [
      "Done batch 10 processing\n",
      "\n",
      "Processing batch 11/17\n"
     ]
    },
    {
     "name": "stderr",
     "output_type": "stream",
     "text": [
      "100%|█████████████████████████████████████| 20000/20000 [10:02<00:00, 33.20it/s]\n"
     ]
    },
    {
     "name": "stdout",
     "output_type": "stream",
     "text": [
      "Done batch 11 processing\n",
      "\n",
      "Processing batch 12/17\n"
     ]
    },
    {
     "name": "stderr",
     "output_type": "stream",
     "text": [
      "100%|█████████████████████████████████████| 20000/20000 [10:19<00:00, 32.28it/s]\n"
     ]
    },
    {
     "name": "stdout",
     "output_type": "stream",
     "text": [
      "Done batch 12 processing\n",
      "\n",
      "Processing batch 13/17\n"
     ]
    },
    {
     "name": "stderr",
     "output_type": "stream",
     "text": [
      "100%|█████████████████████████████████████| 20000/20000 [10:50<00:00, 30.74it/s]\n"
     ]
    },
    {
     "name": "stdout",
     "output_type": "stream",
     "text": [
      "Done batch 13 processing\n",
      "\n",
      "Processing batch 14/17\n"
     ]
    },
    {
     "name": "stderr",
     "output_type": "stream",
     "text": [
      "100%|█████████████████████████████████████| 20000/20000 [11:03<00:00, 30.13it/s]\n"
     ]
    },
    {
     "name": "stdout",
     "output_type": "stream",
     "text": [
      "Done batch 14 processing\n",
      "\n",
      "Processing batch 15/17\n"
     ]
    },
    {
     "name": "stderr",
     "output_type": "stream",
     "text": [
      "100%|█████████████████████████████████████| 20000/20000 [10:54<00:00, 30.54it/s]\n"
     ]
    },
    {
     "name": "stdout",
     "output_type": "stream",
     "text": [
      "Done batch 15 processing\n",
      "\n",
      "Processing batch 16/17\n"
     ]
    },
    {
     "name": "stderr",
     "output_type": "stream",
     "text": [
      "100%|█████████████████████████████████████████| 670/670 [00:21<00:00, 31.50it/s]\n"
     ]
    },
    {
     "name": "stdout",
     "output_type": "stream",
     "text": [
      "Done batch 16 processing\n",
      "\n"
     ]
    }
   ],
   "source": [
    "# Run main\n",
    "\n",
    "main(score_data, fname_data, num_datas, \\\n",
    "     batch_size, num_batches, file_root, start_batch=0)"
   ]
  },
  {
   "cell_type": "code",
   "execution_count": 3,
   "id": "5411d0d9",
   "metadata": {},
   "outputs": [],
   "source": [
    "# Remove Addtional terms from batch calculation\n",
    "\n",
    "drop_columns = [\"Unnamed: 0\"] + [f\"Unnamed: 0.{i}\"for i in range(1, num_batches+1)]\n",
    "data = pd.read_csv(file_root)\n",
    "new_data = data.drop(columns=drop_columns)\n",
    "new_data.to_csv(file_root)"
   ]
  },
  {
   "cell_type": "markdown",
   "id": "8f090b91",
   "metadata": {},
   "source": [
    "### 2. Additional processing (CRIT)\n",
    "\n",
    "Reprocessing Data\n",
    "1. Slice data by batchsize, normalize, and re-save as numpy file\n",
    "2. Save Hfpef scores with each standards\n",
    "\n",
    "Heavy:2, Hypertensive:1, Artrial Fibrillation:3, \n",
    "Pulmonary Hypertnesion:1, Elder:1, Filling Pressure:1"
   ]
  },
  {
   "cell_type": "code",
   "execution_count": 2,
   "id": "4b5d1acd",
   "metadata": {},
   "outputs": [],
   "source": [
    "# Useful Variable 2\n",
    "\n",
    "raw_data_dir = '/home/ubuntu/ecg_mount/220927_SevMUSE_EKG_waveform'\n",
    "proc_dir = './processed_data'\n",
    "file_root = './fname_score_pair.csv'\n",
    "crit_file_root = './fname_crit_pair.csv'\n",
    "crit_keys = ['batch_no', 'idx', 'als', 'fname', 'score', \\\n",
    "    'BMI', 'afib', 'PASP', 'age', 'EE']\n",
    "\n",
    "data_pairs = pd.read_csv(file_root)\n",
    "batch_size = 2048\n",
    "num_batches = len(data_pairs)//batch_size + 1\n",
    "batch_idx = [i*batch_size for i in range(num_batches)] + [len(data_pairs)]\n",
    "num_threads = 16\n",
    "\n",
    "score_data = pd.read_csv('/home/ubuntu/ecg_mount/H2FPEF-echo_.csv', encoding='cp949', low_memory=False)\n",
    "\n",
    "def minmax_scaling(data, new_min=0, new_max=1):\n",
    "    data_min = np.min(data, axis=1, keepdims=True)\n",
    "    data_max = np.max(data, axis=1, keepdims=True)\n",
    "    scaled_data = new_min + (data - data_min) * (new_max - new_min) / (data_max - data_min)\n",
    "    return scaled_data"
   ]
  },
  {
   "cell_type": "code",
   "execution_count": 74,
   "id": "859d6ee3",
   "metadata": {},
   "outputs": [],
   "source": [
    "# Reset crit_CSV File. \n",
    "# Please be careful to run the cell. \n",
    "\n",
    "if os.path.isfile(crit_file_root):\n",
    "    os.remove(crit_file_root)\n",
    "\n",
    "empty = pd.DataFrame(columns = crit_keys)\n",
    "empty.to_csv(crit_file_root)"
   ]
  },
  {
   "cell_type": "code",
   "execution_count": 75,
   "id": "f6258bea",
   "metadata": {},
   "outputs": [
    {
     "name": "stderr",
     "output_type": "stream",
     "text": [
      "100%|█████████████████████████████████████████████████████████████| 2048/2048 [00:15<00:00, 135.26it/s]\n"
     ]
    },
    {
     "name": "stdout",
     "output_type": "stream",
     "text": [
      "Batch 1/89 saved in -23.85 sec!\n"
     ]
    },
    {
     "name": "stderr",
     "output_type": "stream",
     "text": [
      "100%|█████████████████████████████████████████████████████████████| 2048/2048 [00:15<00:00, 134.45it/s]\n"
     ]
    },
    {
     "name": "stdout",
     "output_type": "stream",
     "text": [
      "Batch 2/89 saved in -23.50 sec!\n"
     ]
    },
    {
     "name": "stderr",
     "output_type": "stream",
     "text": [
      "100%|██████████████████████████████████████████████████████████████| 2048/2048 [00:26<00:00, 78.75it/s]\n"
     ]
    },
    {
     "name": "stdout",
     "output_type": "stream",
     "text": [
      "Batch 3/89 saved in -34.33 sec!\n"
     ]
    },
    {
     "name": "stderr",
     "output_type": "stream",
     "text": [
      "100%|██████████████████████████████████████████████████████████████| 2048/2048 [00:28<00:00, 71.70it/s]\n"
     ]
    },
    {
     "name": "stdout",
     "output_type": "stream",
     "text": [
      "Batch 4/89 saved in -36.90 sec!\n"
     ]
    },
    {
     "name": "stderr",
     "output_type": "stream",
     "text": [
      "100%|██████████████████████████████████████████████████████████████| 2048/2048 [00:29<00:00, 70.54it/s]\n"
     ]
    },
    {
     "name": "stdout",
     "output_type": "stream",
     "text": [
      "Batch 5/89 saved in -37.42 sec!\n"
     ]
    },
    {
     "name": "stderr",
     "output_type": "stream",
     "text": [
      "100%|██████████████████████████████████████████████████████████████| 2048/2048 [00:28<00:00, 73.11it/s]\n"
     ]
    },
    {
     "name": "stdout",
     "output_type": "stream",
     "text": [
      "Batch 6/89 saved in -36.49 sec!\n"
     ]
    },
    {
     "name": "stderr",
     "output_type": "stream",
     "text": [
      "100%|██████████████████████████████████████████████████████████████| 2048/2048 [00:28<00:00, 71.60it/s]\n"
     ]
    },
    {
     "name": "stdout",
     "output_type": "stream",
     "text": [
      "Batch 7/89 saved in -37.16 sec!\n"
     ]
    },
    {
     "name": "stderr",
     "output_type": "stream",
     "text": [
      "100%|██████████████████████████████████████████████████████████████| 2048/2048 [00:28<00:00, 71.18it/s]\n"
     ]
    },
    {
     "name": "stdout",
     "output_type": "stream",
     "text": [
      "Batch 8/89 saved in -37.25 sec!\n"
     ]
    },
    {
     "name": "stderr",
     "output_type": "stream",
     "text": [
      "100%|██████████████████████████████████████████████████████████████| 2048/2048 [00:27<00:00, 73.70it/s]\n"
     ]
    },
    {
     "name": "stdout",
     "output_type": "stream",
     "text": [
      "Batch 9/89 saved in -36.64 sec!\n"
     ]
    },
    {
     "name": "stderr",
     "output_type": "stream",
     "text": [
      "100%|██████████████████████████████████████████████████████████████| 2048/2048 [00:28<00:00, 71.88it/s]\n"
     ]
    },
    {
     "name": "stdout",
     "output_type": "stream",
     "text": [
      "Batch 10/89 saved in -37.27 sec!\n"
     ]
    },
    {
     "name": "stderr",
     "output_type": "stream",
     "text": [
      "100%|██████████████████████████████████████████████████████████████| 2048/2048 [00:27<00:00, 74.50it/s]\n",
      "/tmp/ipykernel_1677/3183962329.py:21: RuntimeWarning: invalid value encountered in divide\n",
      "  scaled_data = new_min + (data - data_min) * (new_max - new_min) / (data_max - data_min)\n"
     ]
    },
    {
     "name": "stdout",
     "output_type": "stream",
     "text": [
      "Batch 11/89 saved in -36.31 sec!\n"
     ]
    },
    {
     "name": "stderr",
     "output_type": "stream",
     "text": [
      "100%|██████████████████████████████████████████████████████████████| 2048/2048 [00:28<00:00, 71.45it/s]\n",
      "/tmp/ipykernel_1677/3183962329.py:21: RuntimeWarning: invalid value encountered in divide\n",
      "  scaled_data = new_min + (data - data_min) * (new_max - new_min) / (data_max - data_min)\n"
     ]
    },
    {
     "name": "stdout",
     "output_type": "stream",
     "text": [
      "Batch 12/89 saved in -37.58 sec!\n"
     ]
    },
    {
     "name": "stderr",
     "output_type": "stream",
     "text": [
      "100%|██████████████████████████████████████████████████████████████| 2048/2048 [00:28<00:00, 73.11it/s]\n"
     ]
    },
    {
     "name": "stdout",
     "output_type": "stream",
     "text": [
      "Batch 13/89 saved in -36.95 sec!\n"
     ]
    },
    {
     "name": "stderr",
     "output_type": "stream",
     "text": [
      "100%|██████████████████████████████████████████████████████████████| 2048/2048 [00:28<00:00, 70.97it/s]\n"
     ]
    },
    {
     "name": "stdout",
     "output_type": "stream",
     "text": [
      "Batch 14/89 saved in -37.77 sec!\n"
     ]
    },
    {
     "name": "stderr",
     "output_type": "stream",
     "text": [
      "100%|██████████████████████████████████████████████████████████████| 2048/2048 [00:28<00:00, 71.85it/s]\n"
     ]
    },
    {
     "name": "stdout",
     "output_type": "stream",
     "text": [
      "Batch 15/89 saved in -37.62 sec!\n"
     ]
    },
    {
     "name": "stderr",
     "output_type": "stream",
     "text": [
      "100%|██████████████████████████████████████████████████████████████| 2048/2048 [00:27<00:00, 74.59it/s]\n",
      "/tmp/ipykernel_1677/3183962329.py:21: RuntimeWarning: invalid value encountered in divide\n",
      "  scaled_data = new_min + (data - data_min) * (new_max - new_min) / (data_max - data_min)\n"
     ]
    },
    {
     "name": "stdout",
     "output_type": "stream",
     "text": [
      "Batch 16/89 saved in -36.61 sec!\n"
     ]
    },
    {
     "name": "stderr",
     "output_type": "stream",
     "text": [
      "100%|██████████████████████████████████████████████████████████████| 2048/2048 [00:27<00:00, 75.26it/s]\n"
     ]
    },
    {
     "name": "stdout",
     "output_type": "stream",
     "text": [
      "Batch 17/89 saved in -36.39 sec!\n"
     ]
    },
    {
     "name": "stderr",
     "output_type": "stream",
     "text": [
      "100%|██████████████████████████████████████████████████████████████| 2048/2048 [00:27<00:00, 74.98it/s]\n"
     ]
    },
    {
     "name": "stdout",
     "output_type": "stream",
     "text": [
      "Batch 18/89 saved in -36.56 sec!\n"
     ]
    },
    {
     "name": "stderr",
     "output_type": "stream",
     "text": [
      "100%|██████████████████████████████████████████████████████████████| 2048/2048 [00:28<00:00, 72.65it/s]\n"
     ]
    },
    {
     "name": "stdout",
     "output_type": "stream",
     "text": [
      "Batch 19/89 saved in -37.70 sec!\n"
     ]
    },
    {
     "name": "stderr",
     "output_type": "stream",
     "text": [
      "100%|██████████████████████████████████████████████████████████████| 2048/2048 [00:29<00:00, 70.05it/s]\n",
      "/tmp/ipykernel_1677/3183962329.py:21: RuntimeWarning: invalid value encountered in divide\n",
      "  scaled_data = new_min + (data - data_min) * (new_max - new_min) / (data_max - data_min)\n"
     ]
    },
    {
     "name": "stdout",
     "output_type": "stream",
     "text": [
      "Batch 20/89 saved in -38.58 sec!\n"
     ]
    },
    {
     "name": "stderr",
     "output_type": "stream",
     "text": [
      "100%|██████████████████████████████████████████████████████████████| 2048/2048 [00:28<00:00, 70.94it/s]\n"
     ]
    },
    {
     "name": "stdout",
     "output_type": "stream",
     "text": [
      "Batch 21/89 saved in -38.51 sec!\n"
     ]
    },
    {
     "name": "stderr",
     "output_type": "stream",
     "text": [
      "100%|██████████████████████████████████████████████████████████████| 2048/2048 [00:27<00:00, 73.43it/s]\n"
     ]
    },
    {
     "name": "stdout",
     "output_type": "stream",
     "text": [
      "Batch 22/89 saved in -37.48 sec!\n"
     ]
    },
    {
     "name": "stderr",
     "output_type": "stream",
     "text": [
      "100%|██████████████████████████████████████████████████████████████| 2048/2048 [00:28<00:00, 71.91it/s]\n"
     ]
    },
    {
     "name": "stdout",
     "output_type": "stream",
     "text": [
      "Batch 23/89 saved in -38.06 sec!\n"
     ]
    },
    {
     "name": "stderr",
     "output_type": "stream",
     "text": [
      "100%|██████████████████████████████████████████████████████████████| 2048/2048 [00:28<00:00, 72.64it/s]\n"
     ]
    },
    {
     "name": "stdout",
     "output_type": "stream",
     "text": [
      "Batch 24/89 saved in -37.83 sec!\n"
     ]
    },
    {
     "name": "stderr",
     "output_type": "stream",
     "text": [
      "100%|██████████████████████████████████████████████████████████████| 2048/2048 [00:28<00:00, 72.94it/s]\n"
     ]
    },
    {
     "name": "stdout",
     "output_type": "stream",
     "text": [
      "Batch 25/89 saved in -37.84 sec!\n"
     ]
    },
    {
     "name": "stderr",
     "output_type": "stream",
     "text": [
      "100%|██████████████████████████████████████████████████████████████| 2048/2048 [00:28<00:00, 71.24it/s]\n",
      "/tmp/ipykernel_1677/3183962329.py:21: RuntimeWarning: invalid value encountered in divide\n",
      "  scaled_data = new_min + (data - data_min) * (new_max - new_min) / (data_max - data_min)\n"
     ]
    },
    {
     "name": "stdout",
     "output_type": "stream",
     "text": [
      "Batch 26/89 saved in -38.51 sec!\n"
     ]
    },
    {
     "name": "stderr",
     "output_type": "stream",
     "text": [
      "100%|██████████████████████████████████████████████████████████████| 2048/2048 [00:28<00:00, 72.89it/s]\n"
     ]
    },
    {
     "name": "stdout",
     "output_type": "stream",
     "text": [
      "Batch 27/89 saved in -37.96 sec!\n"
     ]
    },
    {
     "name": "stderr",
     "output_type": "stream",
     "text": [
      "100%|██████████████████████████████████████████████████████████████| 2048/2048 [00:28<00:00, 71.72it/s]\n"
     ]
    },
    {
     "name": "stdout",
     "output_type": "stream",
     "text": [
      "Batch 28/89 saved in -38.47 sec!\n"
     ]
    },
    {
     "name": "stderr",
     "output_type": "stream",
     "text": [
      "100%|██████████████████████████████████████████████████████████████| 2048/2048 [00:28<00:00, 73.12it/s]\n"
     ]
    },
    {
     "name": "stdout",
     "output_type": "stream",
     "text": [
      "Batch 29/89 saved in -37.94 sec!\n"
     ]
    },
    {
     "name": "stderr",
     "output_type": "stream",
     "text": [
      "100%|██████████████████████████████████████████████████████████████| 2048/2048 [00:29<00:00, 70.61it/s]\n"
     ]
    },
    {
     "name": "stdout",
     "output_type": "stream",
     "text": [
      "Batch 30/89 saved in -38.98 sec!\n"
     ]
    },
    {
     "name": "stderr",
     "output_type": "stream",
     "text": [
      "100%|██████████████████████████████████████████████████████████████| 2048/2048 [00:28<00:00, 71.69it/s]\n"
     ]
    },
    {
     "name": "stdout",
     "output_type": "stream",
     "text": [
      "Batch 31/89 saved in -38.65 sec!\n"
     ]
    },
    {
     "name": "stderr",
     "output_type": "stream",
     "text": [
      "100%|██████████████████████████████████████████████████████████████| 2048/2048 [00:28<00:00, 72.52it/s]\n"
     ]
    },
    {
     "name": "stdout",
     "output_type": "stream",
     "text": [
      "Batch 32/89 saved in -38.29 sec!\n"
     ]
    },
    {
     "name": "stderr",
     "output_type": "stream",
     "text": [
      "100%|██████████████████████████████████████████████████████████████| 2048/2048 [00:28<00:00, 72.20it/s]\n"
     ]
    },
    {
     "name": "stdout",
     "output_type": "stream",
     "text": [
      "Batch 33/89 saved in -38.68 sec!\n"
     ]
    },
    {
     "name": "stderr",
     "output_type": "stream",
     "text": [
      "100%|██████████████████████████████████████████████████████████████| 2048/2048 [00:28<00:00, 71.14it/s]\n"
     ]
    },
    {
     "name": "stdout",
     "output_type": "stream",
     "text": [
      "Batch 34/89 saved in -39.18 sec!\n"
     ]
    },
    {
     "name": "stderr",
     "output_type": "stream",
     "text": [
      "100%|██████████████████████████████████████████████████████████████| 2048/2048 [00:31<00:00, 66.01it/s]\n"
     ]
    },
    {
     "name": "stdout",
     "output_type": "stream",
     "text": [
      "Batch 35/89 saved in -41.47 sec!\n"
     ]
    },
    {
     "name": "stderr",
     "output_type": "stream",
     "text": [
      "100%|██████████████████████████████████████████████████████████████| 2048/2048 [00:28<00:00, 72.01it/s]\n"
     ]
    },
    {
     "name": "stdout",
     "output_type": "stream",
     "text": [
      "Batch 36/89 saved in -38.87 sec!\n"
     ]
    },
    {
     "name": "stderr",
     "output_type": "stream",
     "text": [
      "100%|██████████████████████████████████████████████████████████████| 2048/2048 [00:29<00:00, 69.58it/s]\n"
     ]
    },
    {
     "name": "stdout",
     "output_type": "stream",
     "text": [
      "Batch 37/89 saved in -39.88 sec!\n"
     ]
    },
    {
     "name": "stderr",
     "output_type": "stream",
     "text": [
      "100%|██████████████████████████████████████████████████████████████| 2048/2048 [00:28<00:00, 72.60it/s]\n"
     ]
    },
    {
     "name": "stdout",
     "output_type": "stream",
     "text": [
      "Batch 38/89 saved in -38.99 sec!\n"
     ]
    },
    {
     "name": "stderr",
     "output_type": "stream",
     "text": [
      "100%|██████████████████████████████████████████████████████████████| 2048/2048 [00:27<00:00, 73.36it/s]\n"
     ]
    },
    {
     "name": "stdout",
     "output_type": "stream",
     "text": [
      "Batch 39/89 saved in -38.82 sec!\n"
     ]
    },
    {
     "name": "stderr",
     "output_type": "stream",
     "text": [
      "100%|██████████████████████████████████████████████████████████████| 2048/2048 [00:27<00:00, 74.10it/s]\n"
     ]
    },
    {
     "name": "stdout",
     "output_type": "stream",
     "text": [
      "Batch 40/89 saved in -38.57 sec!\n"
     ]
    },
    {
     "name": "stderr",
     "output_type": "stream",
     "text": [
      "100%|████████████████████████████████████████████████████████████████████████████████████████████████████████████████████████████████████████████████████| 2048/2048 [00:28<00:00, 70.93it/s]\n"
     ]
    },
    {
     "name": "stdout",
     "output_type": "stream",
     "text": [
      "Batch 41/89 saved in -39.70 sec!\n"
     ]
    },
    {
     "name": "stderr",
     "output_type": "stream",
     "text": [
      "100%|████████████████████████████████████████████████████████████████████████████████████████████████████████████████████████████████████████████████████| 2048/2048 [00:28<00:00, 71.06it/s]\n"
     ]
    },
    {
     "name": "stdout",
     "output_type": "stream",
     "text": [
      "Batch 42/89 saved in -39.97 sec!\n"
     ]
    },
    {
     "name": "stderr",
     "output_type": "stream",
     "text": [
      "100%|████████████████████████████████████████████████████████████████████████████████████████████████████████████████████████████████████████████████████| 2048/2048 [00:31<00:00, 64.01it/s]\n"
     ]
    },
    {
     "name": "stdout",
     "output_type": "stream",
     "text": [
      "Batch 43/89 saved in -42.96 sec!\n"
     ]
    },
    {
     "name": "stderr",
     "output_type": "stream",
     "text": [
      "100%|████████████████████████████████████████████████████████████████████████████████████████████████████████████████████████████████████████████████████| 2048/2048 [00:28<00:00, 71.82it/s]\n",
      "/tmp/ipykernel_1677/3183962329.py:21: RuntimeWarning: invalid value encountered in divide\n",
      "  scaled_data = new_min + (data - data_min) * (new_max - new_min) / (data_max - data_min)\n"
     ]
    },
    {
     "name": "stdout",
     "output_type": "stream",
     "text": [
      "Batch 44/89 saved in -39.74 sec!\n"
     ]
    },
    {
     "name": "stderr",
     "output_type": "stream",
     "text": [
      "100%|████████████████████████████████████████████████████████████████████████████████████████████████████████████████████████████████████████████████████| 2048/2048 [00:28<00:00, 70.80it/s]\n"
     ]
    },
    {
     "name": "stdout",
     "output_type": "stream",
     "text": [
      "Batch 45/89 saved in -40.20 sec!\n"
     ]
    },
    {
     "name": "stderr",
     "output_type": "stream",
     "text": [
      "100%|████████████████████████████████████████████████████████████████████████████████████████████████████████████████████████████████████████████████████| 2048/2048 [00:29<00:00, 70.53it/s]\n"
     ]
    },
    {
     "name": "stdout",
     "output_type": "stream",
     "text": [
      "Batch 46/89 saved in -40.43 sec!\n"
     ]
    },
    {
     "name": "stderr",
     "output_type": "stream",
     "text": [
      "100%|████████████████████████████████████████████████████████████████████████████████████████████████████████████████████████████████████████████████████| 2048/2048 [00:28<00:00, 70.73it/s]\n"
     ]
    },
    {
     "name": "stdout",
     "output_type": "stream",
     "text": [
      "Batch 47/89 saved in -40.47 sec!\n"
     ]
    },
    {
     "name": "stderr",
     "output_type": "stream",
     "text": [
      "100%|████████████████████████████████████████████████████████████████████████████████████████████████████████████████████████████████████████████████████| 2048/2048 [00:28<00:00, 72.02it/s]\n"
     ]
    },
    {
     "name": "stdout",
     "output_type": "stream",
     "text": [
      "Batch 48/89 saved in -40.04 sec!\n"
     ]
    },
    {
     "name": "stderr",
     "output_type": "stream",
     "text": [
      "100%|████████████████████████████████████████████████████████████████████████████████████████████████████████████████████████████████████████████████████| 2048/2048 [00:29<00:00, 69.78it/s]\n",
      "/tmp/ipykernel_1677/3183962329.py:21: RuntimeWarning: invalid value encountered in divide\n",
      "  scaled_data = new_min + (data - data_min) * (new_max - new_min) / (data_max - data_min)\n"
     ]
    },
    {
     "name": "stdout",
     "output_type": "stream",
     "text": [
      "Batch 49/89 saved in -40.79 sec!\n"
     ]
    },
    {
     "name": "stderr",
     "output_type": "stream",
     "text": [
      "100%|████████████████████████████████████████████████████████████████████████████████████████████████████████████████████████████████████████████████████| 2048/2048 [00:27<00:00, 73.75it/s]\n"
     ]
    },
    {
     "name": "stdout",
     "output_type": "stream",
     "text": [
      "Batch 50/89 saved in -39.38 sec!\n"
     ]
    },
    {
     "name": "stderr",
     "output_type": "stream",
     "text": [
      "100%|████████████████████████████████████████████████████████████████████████████████████████████████████████████████████████████████████████████████████| 2048/2048 [00:28<00:00, 72.88it/s]\n"
     ]
    },
    {
     "name": "stdout",
     "output_type": "stream",
     "text": [
      "Batch 51/89 saved in -39.90 sec!\n"
     ]
    },
    {
     "name": "stderr",
     "output_type": "stream",
     "text": [
      "100%|████████████████████████████████████████████████████████████████████████████████████████████████████████████████████████████████████████████████████| 2048/2048 [00:28<00:00, 71.25it/s]\n",
      "/tmp/ipykernel_1677/3183962329.py:21: RuntimeWarning: invalid value encountered in divide\n",
      "  scaled_data = new_min + (data - data_min) * (new_max - new_min) / (data_max - data_min)\n"
     ]
    },
    {
     "name": "stdout",
     "output_type": "stream",
     "text": [
      "Batch 52/89 saved in -40.45 sec!\n"
     ]
    },
    {
     "name": "stderr",
     "output_type": "stream",
     "text": [
      "100%|████████████████████████████████████████████████████████████████████████████████████████████████████████████████████████████████████████████████████| 2048/2048 [00:28<00:00, 73.06it/s]\n"
     ]
    },
    {
     "name": "stdout",
     "output_type": "stream",
     "text": [
      "Batch 53/89 saved in -40.01 sec!\n"
     ]
    },
    {
     "name": "stderr",
     "output_type": "stream",
     "text": [
      "100%|████████████████████████████████████████████████████████████████████████████████████████████████████████████████████████████████████████████████████| 2048/2048 [00:28<00:00, 70.74it/s]\n"
     ]
    },
    {
     "name": "stdout",
     "output_type": "stream",
     "text": [
      "Batch 54/89 saved in -41.19 sec!\n"
     ]
    },
    {
     "name": "stderr",
     "output_type": "stream",
     "text": [
      "100%|████████████████████████████████████████████████████████████████████████████████████████████████████████████████████████████████████████████████████| 2048/2048 [00:28<00:00, 71.31it/s]\n"
     ]
    },
    {
     "name": "stdout",
     "output_type": "stream",
     "text": [
      "Batch 55/89 saved in -40.65 sec!\n"
     ]
    },
    {
     "name": "stderr",
     "output_type": "stream",
     "text": [
      "100%|████████████████████████████████████████████████████████████████████████████████████████████████████████████████████████████████████████████████████| 2048/2048 [00:28<00:00, 70.73it/s]\n",
      "/tmp/ipykernel_1677/3183962329.py:21: RuntimeWarning: invalid value encountered in divide\n",
      "  scaled_data = new_min + (data - data_min) * (new_max - new_min) / (data_max - data_min)\n"
     ]
    },
    {
     "name": "stdout",
     "output_type": "stream",
     "text": [
      "Batch 56/89 saved in -41.10 sec!\n"
     ]
    },
    {
     "name": "stderr",
     "output_type": "stream",
     "text": [
      "100%|████████████████████████████████████████████████████████████████████████████████████████████████████████████████████████████████████████████████████| 2048/2048 [00:28<00:00, 73.10it/s]\n"
     ]
    },
    {
     "name": "stdout",
     "output_type": "stream",
     "text": [
      "Batch 57/89 saved in -40.25 sec!\n"
     ]
    },
    {
     "name": "stderr",
     "output_type": "stream",
     "text": [
      "100%|████████████████████████████████████████████████████████████████████████████████████████████████████████████████████████████████████████████████████| 2048/2048 [00:27<00:00, 74.14it/s]\n",
      "/tmp/ipykernel_1677/3183962329.py:21: RuntimeWarning: invalid value encountered in divide\n",
      "  scaled_data = new_min + (data - data_min) * (new_max - new_min) / (data_max - data_min)\n"
     ]
    },
    {
     "name": "stdout",
     "output_type": "stream",
     "text": [
      "Batch 58/89 saved in -40.09 sec!\n"
     ]
    },
    {
     "name": "stderr",
     "output_type": "stream",
     "text": [
      "100%|████████████████████████████████████████████████████████████████████████████████████████████████████████████████████████████████████████████████████| 2048/2048 [00:27<00:00, 73.17it/s]\n"
     ]
    },
    {
     "name": "stdout",
     "output_type": "stream",
     "text": [
      "Batch 59/89 saved in -40.34 sec!\n"
     ]
    },
    {
     "name": "stderr",
     "output_type": "stream",
     "text": [
      "100%|████████████████████████████████████████████████████████████████████████████████████████████████████████████████████████████████████████████████████| 2048/2048 [00:28<00:00, 71.16it/s]\n",
      "/tmp/ipykernel_1677/3183962329.py:21: RuntimeWarning: invalid value encountered in divide\n",
      "  scaled_data = new_min + (data - data_min) * (new_max - new_min) / (data_max - data_min)\n"
     ]
    },
    {
     "name": "stdout",
     "output_type": "stream",
     "text": [
      "Batch 60/89 saved in -41.27 sec!\n"
     ]
    },
    {
     "name": "stderr",
     "output_type": "stream",
     "text": [
      "100%|████████████████████████████████████████████████████████████████████████████████████████████████████████████████████████████████████████████████████| 2048/2048 [00:29<00:00, 70.14it/s]\n",
      "/tmp/ipykernel_1677/3183962329.py:21: RuntimeWarning: invalid value encountered in divide\n",
      "  scaled_data = new_min + (data - data_min) * (new_max - new_min) / (data_max - data_min)\n"
     ]
    },
    {
     "name": "stdout",
     "output_type": "stream",
     "text": [
      "Batch 61/89 saved in -41.87 sec!\n"
     ]
    },
    {
     "name": "stderr",
     "output_type": "stream",
     "text": [
      "100%|████████████████████████████████████████████████████████████████████████████████████████████████████████████████████████████████████████████████████| 2048/2048 [00:28<00:00, 71.71it/s]\n"
     ]
    },
    {
     "name": "stdout",
     "output_type": "stream",
     "text": [
      "Batch 62/89 saved in -40.90 sec!\n"
     ]
    },
    {
     "name": "stderr",
     "output_type": "stream",
     "text": [
      "100%|████████████████████████████████████████████████████████████████████████████████████████████████████████████████████████████████████████████████████| 2048/2048 [00:28<00:00, 71.16it/s]\n",
      "/tmp/ipykernel_1677/3183962329.py:21: RuntimeWarning: invalid value encountered in divide\n",
      "  scaled_data = new_min + (data - data_min) * (new_max - new_min) / (data_max - data_min)\n"
     ]
    },
    {
     "name": "stdout",
     "output_type": "stream",
     "text": [
      "Batch 63/89 saved in -41.59 sec!\n"
     ]
    },
    {
     "name": "stderr",
     "output_type": "stream",
     "text": [
      "100%|████████████████████████████████████████████████████████████████████████████████████████████████████████████████████████████████████████████████████| 2048/2048 [00:27<00:00, 73.34it/s]\n"
     ]
    },
    {
     "name": "stdout",
     "output_type": "stream",
     "text": [
      "Batch 64/89 saved in -40.90 sec!\n"
     ]
    },
    {
     "name": "stderr",
     "output_type": "stream",
     "text": [
      "100%|████████████████████████████████████████████████████████████████████████████████████████████████████████████████████████████████████████████████████| 2048/2048 [00:28<00:00, 71.86it/s]\n"
     ]
    },
    {
     "name": "stdout",
     "output_type": "stream",
     "text": [
      "Batch 65/89 saved in -41.45 sec!\n"
     ]
    },
    {
     "name": "stderr",
     "output_type": "stream",
     "text": [
      "100%|████████████████████████████████████████████████████████████████████████████████████████████████████████████████████████████████████████████████████| 2048/2048 [00:28<00:00, 72.65it/s]\n"
     ]
    },
    {
     "name": "stdout",
     "output_type": "stream",
     "text": [
      "Batch 66/89 saved in -40.87 sec!\n"
     ]
    },
    {
     "name": "stderr",
     "output_type": "stream",
     "text": [
      "100%|████████████████████████████████████████████████████████████████████████████████████████████████████████████████████████████████████████████████████| 2048/2048 [00:28<00:00, 71.25it/s]\n"
     ]
    },
    {
     "name": "stdout",
     "output_type": "stream",
     "text": [
      "Batch 67/89 saved in -41.59 sec!\n"
     ]
    },
    {
     "name": "stderr",
     "output_type": "stream",
     "text": [
      "100%|████████████████████████████████████████████████████████████████████████████████████████████████████████████████████████████████████████████████████| 2048/2048 [00:28<00:00, 72.32it/s]\n",
      "/tmp/ipykernel_1677/3183962329.py:21: RuntimeWarning: invalid value encountered in divide\n",
      "  scaled_data = new_min + (data - data_min) * (new_max - new_min) / (data_max - data_min)\n"
     ]
    },
    {
     "name": "stdout",
     "output_type": "stream",
     "text": [
      "Batch 68/89 saved in -41.30 sec!\n"
     ]
    },
    {
     "name": "stderr",
     "output_type": "stream",
     "text": [
      "100%|████████████████████████████████████████████████████████████████████████████████████████████████████████████████████████████████████████████████████| 2048/2048 [00:28<00:00, 72.06it/s]\n"
     ]
    },
    {
     "name": "stdout",
     "output_type": "stream",
     "text": [
      "Batch 69/89 saved in -41.70 sec!\n"
     ]
    },
    {
     "name": "stderr",
     "output_type": "stream",
     "text": [
      "100%|████████████████████████████████████████████████████████████████████████████████████████████████████████████████████████████████████████████████████| 2048/2048 [00:28<00:00, 70.72it/s]\n"
     ]
    },
    {
     "name": "stdout",
     "output_type": "stream",
     "text": [
      "Batch 70/89 saved in -42.75 sec!\n"
     ]
    },
    {
     "name": "stderr",
     "output_type": "stream",
     "text": [
      "100%|████████████████████████████████████████████████████████████████████████████████████████████████████████████████████████████████████████████████████| 2048/2048 [00:28<00:00, 71.75it/s]\n"
     ]
    },
    {
     "name": "stdout",
     "output_type": "stream",
     "text": [
      "Batch 71/89 saved in -41.93 sec!\n"
     ]
    },
    {
     "name": "stderr",
     "output_type": "stream",
     "text": [
      "100%|████████████████████████████████████████████████████████████████████████████████████████████████████████████████████████████████████████████████████| 2048/2048 [00:28<00:00, 71.72it/s]\n"
     ]
    },
    {
     "name": "stdout",
     "output_type": "stream",
     "text": [
      "Batch 72/89 saved in -42.18 sec!\n"
     ]
    },
    {
     "name": "stderr",
     "output_type": "stream",
     "text": [
      "100%|████████████████████████████████████████████████████████████████████████████████████████████████████████████████████████████████████████████████████| 2048/2048 [00:29<00:00, 70.09it/s]\n",
      "/tmp/ipykernel_1677/3183962329.py:21: RuntimeWarning: invalid value encountered in divide\n",
      "  scaled_data = new_min + (data - data_min) * (new_max - new_min) / (data_max - data_min)\n"
     ]
    },
    {
     "name": "stdout",
     "output_type": "stream",
     "text": [
      "Batch 73/89 saved in -42.66 sec!\n"
     ]
    },
    {
     "name": "stderr",
     "output_type": "stream",
     "text": [
      "100%|████████████████████████████████████████████████████████████████████████████████████████████████████████████████████████████████████████████████████| 2048/2048 [00:28<00:00, 71.88it/s]\n"
     ]
    },
    {
     "name": "stdout",
     "output_type": "stream",
     "text": [
      "Batch 74/89 saved in -42.08 sec!\n"
     ]
    },
    {
     "name": "stderr",
     "output_type": "stream",
     "text": [
      "100%|████████████████████████████████████████████████████████████████████████████████████████████████████████████████████████████████████████████████████| 2048/2048 [00:27<00:00, 74.52it/s]\n"
     ]
    },
    {
     "name": "stdout",
     "output_type": "stream",
     "text": [
      "Batch 75/89 saved in -41.38 sec!\n"
     ]
    },
    {
     "name": "stderr",
     "output_type": "stream",
     "text": [
      "100%|████████████████████████████████████████████████████████████████████████████████████████████████████████████████████████████████████████████████████| 2048/2048 [00:28<00:00, 71.29it/s]\n",
      "/tmp/ipykernel_1677/3183962329.py:21: RuntimeWarning: invalid value encountered in divide\n",
      "  scaled_data = new_min + (data - data_min) * (new_max - new_min) / (data_max - data_min)\n"
     ]
    },
    {
     "name": "stdout",
     "output_type": "stream",
     "text": [
      "Batch 76/89 saved in -42.64 sec!\n"
     ]
    },
    {
     "name": "stderr",
     "output_type": "stream",
     "text": [
      "100%|████████████████████████████████████████████████████████████████████████████████████████████████████████████████████████████████████████████████████| 2048/2048 [00:28<00:00, 71.83it/s]\n"
     ]
    },
    {
     "name": "stdout",
     "output_type": "stream",
     "text": [
      "Batch 77/89 saved in -42.77 sec!\n"
     ]
    },
    {
     "name": "stderr",
     "output_type": "stream",
     "text": [
      "100%|████████████████████████████████████████████████████████████████████████████████████████████████████████████████████████████████████████████████████| 2048/2048 [00:28<00:00, 71.47it/s]\n"
     ]
    },
    {
     "name": "stdout",
     "output_type": "stream",
     "text": [
      "Batch 78/89 saved in -43.68 sec!\n"
     ]
    },
    {
     "name": "stderr",
     "output_type": "stream",
     "text": [
      "100%|████████████████████████████████████████████████████████████████████████████████████████████████████████████████████████████████████████████████████| 2048/2048 [00:27<00:00, 74.37it/s]\n"
     ]
    },
    {
     "name": "stdout",
     "output_type": "stream",
     "text": [
      "Batch 79/89 saved in -41.95 sec!\n"
     ]
    },
    {
     "name": "stderr",
     "output_type": "stream",
     "text": [
      "100%|████████████████████████████████████████████████████████████████████████████████████████████████████████████████████████████████████████████████████| 2048/2048 [00:29<00:00, 69.86it/s]\n"
     ]
    },
    {
     "name": "stdout",
     "output_type": "stream",
     "text": [
      "Batch 80/89 saved in -43.57 sec!\n"
     ]
    },
    {
     "name": "stderr",
     "output_type": "stream",
     "text": [
      "100%|████████████████████████████████████████████████████████████████████████████████████████████████████████████████████████████████████████████████████| 2048/2048 [00:30<00:00, 67.10it/s]\n"
     ]
    },
    {
     "name": "stdout",
     "output_type": "stream",
     "text": [
      "Batch 81/89 saved in -45.24 sec!\n"
     ]
    },
    {
     "name": "stderr",
     "output_type": "stream",
     "text": [
      "100%|████████████████████████████████████████████████████████████████████████████████████████████████████████████████████████████████████████████████████| 2048/2048 [00:28<00:00, 71.05it/s]\n"
     ]
    },
    {
     "name": "stdout",
     "output_type": "stream",
     "text": [
      "Batch 82/89 saved in -44.28 sec!\n"
     ]
    },
    {
     "name": "stderr",
     "output_type": "stream",
     "text": [
      "100%|████████████████████████████████████████████████████████████████████████████████████████████████████████████████████████████████████████████████████| 2048/2048 [00:28<00:00, 70.93it/s]\n"
     ]
    },
    {
     "name": "stdout",
     "output_type": "stream",
     "text": [
      "Batch 83/89 saved in -43.81 sec!\n"
     ]
    },
    {
     "name": "stderr",
     "output_type": "stream",
     "text": [
      "100%|████████████████████████████████████████████████████████████████████████████████████████████████████████████████████████████████████████████████████| 2048/2048 [00:27<00:00, 73.75it/s]\n"
     ]
    },
    {
     "name": "stdout",
     "output_type": "stream",
     "text": [
      "Batch 84/89 saved in -42.64 sec!\n"
     ]
    },
    {
     "name": "stderr",
     "output_type": "stream",
     "text": [
      "100%|████████████████████████████████████████████████████████████████████████████████████████████████████████████████████████████████████████████████████| 2048/2048 [00:27<00:00, 73.65it/s]\n"
     ]
    },
    {
     "name": "stdout",
     "output_type": "stream",
     "text": [
      "Batch 85/89 saved in -42.86 sec!\n"
     ]
    },
    {
     "name": "stderr",
     "output_type": "stream",
     "text": [
      "100%|████████████████████████████████████████████████████████████████████████████████████████████████████████████████████████████████████████████████████| 2048/2048 [00:27<00:00, 73.83it/s]\n"
     ]
    },
    {
     "name": "stdout",
     "output_type": "stream",
     "text": [
      "Batch 86/89 saved in -43.62 sec!\n"
     ]
    },
    {
     "name": "stderr",
     "output_type": "stream",
     "text": [
      "100%|████████████████████████████████████████████████████████████████████████████████████████████████████████████████████████████████████████████████████| 2048/2048 [00:28<00:00, 72.39it/s]\n"
     ]
    },
    {
     "name": "stdout",
     "output_type": "stream",
     "text": [
      "Batch 87/89 saved in -44.06 sec!\n"
     ]
    },
    {
     "name": "stderr",
     "output_type": "stream",
     "text": [
      "100%|████████████████████████████████████████████████████████████████████████████████████████████████████████████████████████████████████████████████████| 3305/3305 [00:45<00:00, 73.06it/s]\n"
     ]
    },
    {
     "name": "stdout",
     "output_type": "stream",
     "text": [
      "Batch 88/89 saved in -70.78 sec!\n"
     ]
    },
    {
     "ename": "IndexError",
     "evalue": "list index out of range",
     "output_type": "error",
     "traceback": [
      "\u001b[0;31m---------------------------------------------------------------------------\u001b[0m",
      "\u001b[0;31mIndexError\u001b[0m                                Traceback (most recent call last)",
      "Cell \u001b[0;32mIn[75], line 41\u001b[0m\n\u001b[1;32m     37\u001b[0m start_t \u001b[38;5;241m=\u001b[39m time\u001b[38;5;241m.\u001b[39mtime()\n\u001b[1;32m     39\u001b[0m crit_df \u001b[38;5;241m=\u001b[39m pd\u001b[38;5;241m.\u001b[39mread_csv(crit_file_root, index_col\u001b[38;5;241m=\u001b[39m\u001b[38;5;241m0\u001b[39m)\n\u001b[0;32m---> 41\u001b[0m batch_pairs \u001b[38;5;241m=\u001b[39m data_pairs\u001b[38;5;241m.\u001b[39miloc[batch_idx[i]:\u001b[43mbatch_idx\u001b[49m\u001b[43m[\u001b[49m\u001b[43mi\u001b[49m\u001b[38;5;241;43m+\u001b[39;49m\u001b[38;5;241;43m1\u001b[39;49m\u001b[43m]\u001b[49m]\n\u001b[1;32m     42\u001b[0m length \u001b[38;5;241m=\u001b[39m \u001b[38;5;28mlen\u001b[39m(batch_pairs)\n\u001b[1;32m     43\u001b[0m batch_pairs \u001b[38;5;241m=\u001b[39m batch_pairs\u001b[38;5;241m.\u001b[39miterrows()\n",
      "\u001b[0;31mIndexError\u001b[0m: list index out of range"
     ]
    }
   ],
   "source": [
    "# Reprocessing Data\n",
    "# 1. Slice data by batchsize, and re-save as numpy file\n",
    "# 2. Save Hfpef scores with each standards\n",
    "# Heavy:2, Hypertensive:1, Artrial Fibrillation:3, \n",
    "# Pulmonary Hypertnesion:1, Elder:1, Filling Pressure:1\n",
    "\n",
    "def processData(df_line):\n",
    "    _, df_line = df_line\n",
    "    als, fname, score = df_line['als'], df_line['fname'], df_line['score']\n",
    "    \n",
    "    new_line = pd.DataFrame(columns = crit_keys)\n",
    "    score_lines = score_data.query(f\"AlsUnitNo=={als}\")\n",
    "    for j in range(len(score_lines)):\n",
    "        line = score_lines.iloc[j]\n",
    "        if line['score_H2FPEF'] == df_line['score']:\n",
    "            new_line = pd.DataFrame({\n",
    "                # Configuration informations\n",
    "                'als'  : als, \n",
    "                'fname': fname, \n",
    "                'score': score,\n",
    "                \n",
    "                # Get each criteria\n",
    "                'BMI'  : line['BMI_30'],\n",
    "                'afib' : line['afib'],\n",
    "                'PASP' : (1 if line['PASP_35'] == 1.0 else 0),\n",
    "                'age'  : line['age_60'],\n",
    "                'EE'   : line['EE_9']\n",
    "            }, index=[0])\n",
    "            break\n",
    "    \n",
    "    file_root = f'{raw_data_dir}/{fname}'\n",
    "    ecg_data = pd.read_csv(file_root).to_numpy()\n",
    "    return ecg_data, new_line\n",
    "\n",
    "\n",
    "for i in range(num_batches):\n",
    "    start_t = time.time()\n",
    "    \n",
    "    crit_df = pd.read_csv(crit_file_root, index_col=0)\n",
    "    \n",
    "    batch_pairs = data_pairs.iloc[batch_idx[i]:batch_idx[i+1]]\n",
    "    length = len(batch_pairs)\n",
    "    batch_pairs = batch_pairs.iterrows()\n",
    "    with ThreadPoolExecutor(max_workers=num_threads) as executor:\n",
    "        batch_results = list(tqdm(executor.map(processData, batch_pairs), total=length))\n",
    "        \n",
    "    ecg_data = []\n",
    "    for j, (ecg_datum, new_line) in enumerate(batch_results):\n",
    "        ecg_data.append(ecg_datum)\n",
    "        new_line['batch_no'] = i\n",
    "        new_line['idx'] = j\n",
    "        crit_df = pd.concat([crit_df, new_line], ignore_index=True)\n",
    "    \n",
    "    batch_ecg_data = np.stack(ecg_data)\n",
    "    batch_ecg_data = minmax_scaling(batch_ecg_data)\n",
    "    np.save(f'{proc_dir}/batch_{i}', batch_ecg_data)\n",
    "    crit_df.to_csv(crit_file_root)\n",
    "    \n",
    "    print(f\"Batch {i+1}/{num_batches+1} saved in {start_t-time.time():.2f} sec!\")"
   ]
  },
  {
   "cell_type": "code",
   "execution_count": 12,
   "id": "515f1405",
   "metadata": {},
   "outputs": [],
   "source": [
    "checkpoint = 87\n",
    "drop_idx = list(range(batch_idx[checkpoint], batch_idx[num_batches]))\n",
    "crit_df = pd.read_csv(crit_file_root, index_col=0)\n",
    "crit_df = crit_df.drop(index=drop_idx)\n",
    "crit_df.to_csv(crit_file_root)"
   ]
  },
  {
   "cell_type": "code",
   "execution_count": 13,
   "id": "34ebbc1e",
   "metadata": {},
   "outputs": [
    {
     "name": "stderr",
     "output_type": "stream",
     "text": [
      "100%|███████████████████████████████████████████████████████████████████████████████████████████████████████████████████████████████████████████████████| 2048/2048 [00:14<00:00, 137.53it/s]\n"
     ]
    },
    {
     "name": "stdout",
     "output_type": "stream",
     "text": [
      "Batch 88/90 saved in -31.57 sec!\n"
     ]
    },
    {
     "name": "stderr",
     "output_type": "stream",
     "text": [
      "100%|███████████████████████████████████████████████████████████████████████████████████████████████████████████████████████████████████████████████████| 1257/1257 [00:09<00:00, 136.00it/s]\n"
     ]
    },
    {
     "name": "stdout",
     "output_type": "stream",
     "text": [
      "Batch 89/90 saved in -19.37 sec!\n"
     ]
    }
   ],
   "source": [
    "# Reprocessing Data\n",
    "# 1. Slice data by batchsize, and re-save as numpy file\n",
    "# 2. Save Hfpef scores with each standards\n",
    "# Heavy:2, Hypertensive:1, Artrial Fibrillation:3, \n",
    "# Pulmonary Hypertnesion:1, Elder:1, Filling Pressure:1\n",
    "\n",
    "def processData(df_line):\n",
    "    _, df_line = df_line\n",
    "    als, fname, score = df_line['als'], df_line['fname'], df_line['score']\n",
    "    \n",
    "    new_line = pd.DataFrame(columns = crit_keys)\n",
    "    score_lines = score_data.query(f\"AlsUnitNo=={als}\")\n",
    "    for j in range(len(score_lines)):\n",
    "        line = score_lines.iloc[j]\n",
    "        if line['score_H2FPEF'] == df_line['score']:\n",
    "            new_line = pd.DataFrame({\n",
    "                # Configuration informations\n",
    "                'als'  : als, \n",
    "                'fname': fname, \n",
    "                'score': score,\n",
    "                \n",
    "                # Get each criteria\n",
    "                'BMI'  : line['BMI_30'],\n",
    "                'afib' : line['afib'],\n",
    "                'PASP' : (1 if line['PASP_35'] == 1.0 else 0),\n",
    "                'age'  : line['age_60'],\n",
    "                'EE'   : line['EE_9']\n",
    "            }, index=[0])\n",
    "            break\n",
    "    \n",
    "    file_root = f'{raw_data_dir}/{fname}'\n",
    "    ecg_data = pd.read_csv(file_root).to_numpy()\n",
    "    return ecg_data, new_line\n",
    "\n",
    "\n",
    "for i in range(checkpoint, num_batches):\n",
    "    start_t = time.time()\n",
    "    \n",
    "    crit_df = pd.read_csv(crit_file_root, index_col=0)\n",
    "    \n",
    "    batch_pairs = data_pairs.iloc[batch_idx[i]:batch_idx[i+1]]\n",
    "    length = len(batch_pairs)\n",
    "    batch_pairs = batch_pairs.iterrows()\n",
    "    with ThreadPoolExecutor(max_workers=num_threads) as executor:\n",
    "        batch_results = list(tqdm(executor.map(processData, batch_pairs), total=length))\n",
    "        \n",
    "    ecg_data = []\n",
    "    for j, (ecg_datum, new_line) in enumerate(batch_results):\n",
    "        ecg_data.append(ecg_datum)\n",
    "        new_line['batch_no'] = i\n",
    "        new_line['idx'] = j\n",
    "        crit_df = pd.concat([crit_df, new_line], ignore_index=True)\n",
    "    \n",
    "    batch_ecg_data = np.stack(ecg_data)\n",
    "    batch_ecg_data = minmax_scaling(batch_ecg_data)\n",
    "    np.save(f'{proc_dir}/batch_{i}', batch_ecg_data)\n",
    "    crit_df.to_csv(crit_file_root)\n",
    "    \n",
    "    print(f\"Batch {i+1}/{num_batches} saved in {start_t-time.time():.2f} sec!\")"
   ]
  },
  {
   "cell_type": "code",
   "execution_count": 38,
   "id": "39cb490b",
   "metadata": {},
   "outputs": [
    {
     "name": "stderr",
     "output_type": "stream",
     "text": [
      " 12%|██████████████████▊                                                                                                                                     | 11/89 [00:10<01:22,  1.06s/it]"
     ]
    },
    {
     "name": "stdout",
     "output_type": "stream",
     "text": [
      "For batch no. 11, fixed 10000 data\n"
     ]
    },
    {
     "name": "stderr",
     "output_type": "stream",
     "text": [
      "\r",
      " 13%|████████████████████▍                                                                                                                                   | 12/89 [00:11<01:33,  1.22s/it]"
     ]
    },
    {
     "name": "stdout",
     "output_type": "stream",
     "text": [
      "For batch no. 12, fixed 5000 data\n"
     ]
    },
    {
     "name": "stderr",
     "output_type": "stream",
     "text": [
      " 18%|███████████████████████████▎                                                                                                                            | 16/89 [00:15<01:24,  1.16s/it]"
     ]
    },
    {
     "name": "stdout",
     "output_type": "stream",
     "text": [
      "For batch no. 16, fixed 5000 data\n"
     ]
    },
    {
     "name": "stderr",
     "output_type": "stream",
     "text": [
      " 22%|██████████████████████████████████▏                                                                                                                     | 20/89 [00:20<01:18,  1.14s/it]"
     ]
    },
    {
     "name": "stdout",
     "output_type": "stream",
     "text": [
      "For batch no. 20, fixed 5000 data\n"
     ]
    },
    {
     "name": "stderr",
     "output_type": "stream",
     "text": [
      " 29%|████████████████████████████████████████████▍                                                                                                           | 26/89 [00:25<01:09,  1.10s/it]"
     ]
    },
    {
     "name": "stdout",
     "output_type": "stream",
     "text": [
      "For batch no. 26, fixed 5000 data\n"
     ]
    },
    {
     "name": "stderr",
     "output_type": "stream",
     "text": [
      " 49%|███████████████████████████████████████████████████████████████████████████▏                                                                            | 44/89 [00:41<00:47,  1.06s/it]"
     ]
    },
    {
     "name": "stdout",
     "output_type": "stream",
     "text": [
      "For batch no. 44, fixed 5000 data\n"
     ]
    },
    {
     "name": "stderr",
     "output_type": "stream",
     "text": [
      " 55%|███████████████████████████████████████████████████████████████████████████████████▋                                                                    | 49/89 [01:09<04:39,  7.00s/it]"
     ]
    },
    {
     "name": "stdout",
     "output_type": "stream",
     "text": [
      "For batch no. 49, fixed 5000 data\n"
     ]
    },
    {
     "name": "stderr",
     "output_type": "stream",
     "text": [
      " 58%|████████████████████████████████████████████████████████████████████████████████████████▊                                                               | 52/89 [01:46<06:26, 10.45s/it]"
     ]
    },
    {
     "name": "stdout",
     "output_type": "stream",
     "text": [
      "For batch no. 52, fixed 10000 data\n"
     ]
    },
    {
     "name": "stderr",
     "output_type": "stream",
     "text": [
      " 63%|███████████████████████████████████████████████████████████████████████████████████████████████▋                                                        | 56/89 [02:34<06:26, 11.71s/it]"
     ]
    },
    {
     "name": "stdout",
     "output_type": "stream",
     "text": [
      "For batch no. 56, fixed 5000 data\n"
     ]
    },
    {
     "name": "stderr",
     "output_type": "stream",
     "text": [
      " 65%|███████████████████████████████████████████████████████████████████████████████████████████████████                                                     | 58/89 [02:56<05:55, 11.47s/it]"
     ]
    },
    {
     "name": "stdout",
     "output_type": "stream",
     "text": [
      "For batch no. 58, fixed 20000 data\n"
     ]
    },
    {
     "name": "stderr",
     "output_type": "stream",
     "text": [
      " 67%|██████████████████████████████████████████████████████████████████████████████████████████████████████▍                                                 | 60/89 [03:20<05:38, 11.68s/it]"
     ]
    },
    {
     "name": "stdout",
     "output_type": "stream",
     "text": [
      "For batch no. 60, fixed 5000 data\n"
     ]
    },
    {
     "name": "stderr",
     "output_type": "stream",
     "text": [
      "\r",
      " 69%|████████████████████████████████████████████████████████████████████████████████████████████████████████▏                                               | 61/89 [03:32<05:29, 11.76s/it]"
     ]
    },
    {
     "name": "stdout",
     "output_type": "stream",
     "text": [
      "For batch no. 61, fixed 10000 data\n"
     ]
    },
    {
     "name": "stderr",
     "output_type": "stream",
     "text": [
      " 71%|███████████████████████████████████████████████████████████████████████████████████████████████████████████▌                                            | 63/89 [03:52<04:46, 11.03s/it]"
     ]
    },
    {
     "name": "stdout",
     "output_type": "stream",
     "text": [
      "For batch no. 63, fixed 5000 data\n"
     ]
    },
    {
     "name": "stderr",
     "output_type": "stream",
     "text": [
      " 76%|████████████████████████████████████████████████████████████████████████████████████████████████████████████████████▏                                   | 68/89 [04:49<03:59, 11.38s/it]"
     ]
    },
    {
     "name": "stdout",
     "output_type": "stream",
     "text": [
      "For batch no. 68, fixed 15000 data\n"
     ]
    },
    {
     "name": "stderr",
     "output_type": "stream",
     "text": [
      " 82%|████████████████████████████████████████████████████████████████████████████████████████████████████████████████████████████▋                           | 73/89 [05:34<02:41, 10.12s/it]"
     ]
    },
    {
     "name": "stdout",
     "output_type": "stream",
     "text": [
      "For batch no. 73, fixed 15000 data\n"
     ]
    },
    {
     "name": "stderr",
     "output_type": "stream",
     "text": [
      " 85%|█████████████████████████████████████████████████████████████████████████████████████████████████████████████████████████████████▊                      | 76/89 [05:58<01:52,  8.67s/it]"
     ]
    },
    {
     "name": "stdout",
     "output_type": "stream",
     "text": [
      "For batch no. 76, fixed 5000 data\n"
     ]
    },
    {
     "name": "stderr",
     "output_type": "stream",
     "text": [
      "100%|████████████████████████████████████████████████████████████████████████████████████████████████████████████████████████████████████████████████████████| 89/89 [07:46<00:00,  5.24s/it]\n"
     ]
    }
   ],
   "source": [
    "for i in tqdm(range(num_batches)):\n",
    "    batch = np.load(f'{proc_dir}/batch_{i}.npy')\n",
    "    nan_args = np.argwhere(np.isnan(batch))\n",
    "    if len(nan_args) == 0:\n",
    "        continue\n",
    "    for nan_arg in nan_args:\n",
    "        idx = tuple(nan_arg)\n",
    "        batch[idx] = 0\n",
    "    \n",
    "    np.save(f'{proc_dir}/batch_{i}', batch)\n",
    "    print(f\"For batch no. {i+1}, fixed {len(nan_args)} data\")"
   ]
  },
  {
   "cell_type": "markdown",
   "id": "4039c439",
   "metadata": {},
   "source": [
    "### 3. Utils"
   ]
  },
  {
   "cell_type": "code",
   "execution_count": 4,
   "id": "c2d6fe41",
   "metadata": {},
   "outputs": [
    {
     "name": "stdout",
     "output_type": "stream",
     "text": [
      "0 7\n"
     ]
    }
   ],
   "source": [
    "# score min max checking\n",
    "\n",
    "data = pd.read_csv(file_root)\n",
    "print(min(data['score']), max(data['score']))"
   ]
  },
  {
   "cell_type": "code",
   "execution_count": 70,
   "id": "fd8314dd",
   "metadata": {},
   "outputs": [
    {
     "name": "stdout",
     "output_type": "stream",
     "text": [
      "   Unnamed: 0       ID    PATIENTNAME   STUDYDATE  REPORTDATE  \\\n",
      "0           1  8707667         CHO CK  2018-08-20  2018-08-20   \n",
      "1           2  8705075    KIMJAE SOOK  2018-08-09  2018-08-09   \n",
      "2           3  8680895            KSJ  2018-07-20  2018-07-20   \n",
      "3           4  8628848            ALI  2018-04-06  2018-04-06   \n",
      "4           5  8547639            우원식  2017-11-15  2017-11-15   \n",
      "5           6  8475444            NaN  2017-08-22  2017-08-22   \n",
      "6           7  8167661  HWANG UI GOON  2016-02-01  2016-02-01   \n",
      "7           8  8119372   KIM MYUNG JA  2016-10-25  2016-10-25   \n",
      "8           9  8079586            염동훈  2015-10-14  2015-10-14   \n",
      "9          10  8069816        CHOI JS  2015-09-11  2015-09-11   \n",
      "\n",
      "   VTR.No..Echo.No. VTR.No..Echo.No...1.  Height  Weight   BSA    SBP   DBP  \\\n",
      "0              18.0                  NaN   173.0    59.0  1.68  134.0  74.0   \n",
      "1              18.0                  NaN   156.0    60.0  1.61  148.0  72.0   \n",
      "2              18.0                  NaN   165.0    68.0  1.77  142.0  78.0   \n",
      "3              18.0                  NaN   180.0    80.0  2.00  116.0  69.0   \n",
      "4              17.0                39138   168.0    69.0  1.79   95.0  56.0   \n",
      "5              17.0                28904   149.0    51.0  1.45  115.0  60.0   \n",
      "6              16.0                 3334   160.0    47.0  1.45  115.0  81.0   \n",
      "7              16.0                  NaN   163.0    67.0  1.74  116.0  75.0   \n",
      "8              15.0                28520   167.0    73.0  1.84  151.0  87.0   \n",
      "9              15.0                25538   165.0    54.0  1.57  115.0  44.0   \n",
      "\n",
      "                             comment.for.fixed.lines  \\\n",
      "0  이기록은 임시메모 입니다. EMR 및 기타 용도로 사용할 수 없습니다. CCU li...   \n",
      "1  이 기록은 정식 기록이 아니므로 EMR 및 기타용도로 사용할 수 없습니다. Port...   \n",
      "2  Limited echo for pericardial effusion^ chamber...   \n",
      "3  이 기록은 임시메모입니다. EMR 등 기타용도로 사용할 수 없습니다.  - C.E ...   \n",
      "4  CCU portable echo: STEMI^ CAD(3VD)^ s/p PCI at...   \n",
      "5  Echo for CAD (3VD) -Compared with previous ech...   \n",
      "6  Portable TTE for post ROSC : anti GABA-B recep...   \n",
      "7  이 기록은 정식 판독이 아니므로 의무기록 및 기타용도로 사용할 수 없습니다 ** s...   \n",
      "8  -CCU portable echo f/u: s/p heart transplantat...   \n",
      "9  - Limited portable for EF^ RWMA^ RVSP and cham...   \n",
      "\n",
      "  Regional.Wall.Motion.for.HY MV.Structure         MV.Prolapse AV.Structure  \\\n",
      "0                         Yes       Native  Slightly thickened       Native   \n",
      "1                         Yes       Native  Slightly thickened       Native   \n",
      "2                          No            -                   -            -   \n",
      "3                          No       Native  Slightly thickened       Native   \n",
      "4                         Yes       Native  Slightly thickened       Native   \n",
      "5                         Yes       Native  Slightly thickened       Native   \n",
      "6                          No       Native  Slightly thickened       Native   \n",
      "7                          No       Native  Slightly thickened       Native   \n",
      "8                          No       Native  Slightly thickened       Native   \n",
      "9                          No            -                   -            -   \n",
      "\n",
      "  AV.Vegetations.Prolapse TV.Structure         TV.Prolapse MV.Regurgitation  \\\n",
      "0      Slightly thickened       Native              Normal                -   \n",
      "1      Slightly thickened       Native  Slightly thickened               No   \n",
      "2                       -       Native              Normal                -   \n",
      "3                Bicuspid       Native  Slightly thickened          Trivial   \n",
      "4      Slightly thickened       Native  Slightly thickened               No   \n",
      "5      Slightly thickened       Native              Normal              G I   \n",
      "6  Senile sclerocalcified       Native  Slightly thickened          Trivial   \n",
      "7      Slightly thickened       Native              Normal          Trivial   \n",
      "8                  Normal       Native              Normal              G I   \n",
      "9                       -            -                   -                -   \n",
      "\n",
      "  AV.Regurgitation TV.Regurgitation PV.Regurgitation MV.Stenosis AV.Stenosis  \\\n",
      "0                -          Trivial                -           -           -   \n",
      "1               No              G I               No          No          No   \n",
      "2                -              G I                -           -           -   \n",
      "3         G II-III              G I               No          No          No   \n",
      "4               No          Trivial               No          No          No   \n",
      "5               No              G I                +          No          No   \n",
      "6          Trivial          Trivial                +          No          No   \n",
      "7               No              G I               No          No          No   \n",
      "8              G I          Trivial                +          No          No   \n",
      "9                -                -                -           -           -   \n",
      "\n",
      "  TV.Stenosis PV.Stenosis Pericardial.Effusion Interacardiac.Thrombi  \\\n",
      "0           -           -                    -                     -   \n",
      "1          No          No           Minimal PE                    No   \n",
      "2           -           -                    -                     -   \n",
      "3          No          No                   No                    No   \n",
      "4          No          No                   No                    No   \n",
      "5          No          No                   No                    No   \n",
      "6          No          No                   No                    No   \n",
      "7          No          No                   No                    No   \n",
      "8          No          No                   No                    No   \n",
      "9           -           -                    -                     -   \n",
      "\n",
      "  Interacariac.mass                    Diastolic.function..for.HY  \\\n",
      "0                 -                                             -   \n",
      "1                No              Indeterminate LV filling pattern   \n",
      "2                 -  Relaxation abnormality of LV filling pattern   \n",
      "3                No  Relaxation abnormality of LV filling pattern   \n",
      "4                No  Relaxation abnormality of LV filling pattern   \n",
      "5                No  Relaxation abnormality of LV filling pattern   \n",
      "6                No  Relaxation abnormality of LV filling pattern   \n",
      "7                No  Relaxation abnormality of LV filling pattern   \n",
      "8                No              Indeterminate LV filling pattern   \n",
      "9                 -                                             -   \n",
      "\n",
      "  LVIDd.by.M.Mode LVIDs.by.M.Mode Left.Ventricle.EF.by.M.Mode  \\\n",
      "0              35              23                          61   \n",
      "1              37              22                           -   \n",
      "2              45              24                          81   \n",
      "3              54              37                          63   \n",
      "4              49              39                           -   \n",
      "5              50              31                          65   \n",
      "6              50              35                          61   \n",
      "7              52              33                          69   \n",
      "8              48              34                          59   \n",
      "9              41              28                          63   \n",
      "\n",
      "  Left.Ventricle.EF.by.2D.Mode IVSd.by.M.mode IVSs.by.M.mode LVPWd.by.M.mode  \\\n",
      "0                          NaN              9             12               9   \n",
      "1                          NaN              9             14              10   \n",
      "2                          NaN             13             18              12   \n",
      "3                          NaN             10             12              10   \n",
      "4                          NaN             10             14              10   \n",
      "5                           64              8             11               7   \n",
      "6                          NaN             10             13               9   \n",
      "7                          NaN             10             14               9   \n",
      "8                          NaN             11             14              11   \n",
      "9                          NaN              9             12               9   \n",
      "\n",
      "  LVPWs.by.M.mode LVOT.Dimension.by.Doppler.Mode LV.Mass.by.M.Mode  \\\n",
      "0              12                            NaN              88.8   \n",
      "1              13                            NaN             104.6   \n",
      "2              16                            NaN             210.2   \n",
      "3              14                            NaN             206.7   \n",
      "4              12                            NaN               176   \n",
      "5              12                            NaN             125.1   \n",
      "6              15                            NaN             169.9   \n",
      "7              15                            NaN             181.4   \n",
      "8              14                             21               194   \n",
      "9              12                            NaN             114.1   \n",
      "\n",
      "  LVMI.by.M.Mode   RWT LAD.by.M.Mode LA.Volume.by.M.Mode  \\\n",
      "0           52.8  0.51           NaN                 NaN   \n",
      "1           64.9  0.54            14                 NaN   \n",
      "2          118.7  0.53           NaN                 NaN   \n",
      "3          103.3  0.37            33                 NaN   \n",
      "4           98.3  0.41            23                 NaN   \n",
      "5           86.2  0.28            29                 NaN   \n",
      "6          117.1  0.36            30                 NaN   \n",
      "7          104.2  0.35            36                 NaN   \n",
      "8          105.4  0.46            43                 NaN   \n",
      "9           72.6  0.44            23                 NaN   \n",
      "\n",
      "  LA.Volume.by.M.Mode..1. LA.Volume.Index.by.M.Mode  \\\n",
      "0                     NaN                       NaN   \n",
      "1                     NaN                       NaN   \n",
      "2                    71.5                       NaN   \n",
      "3                    42.9                       NaN   \n",
      "4                    42.7                       NaN   \n",
      "5                      50                       NaN   \n",
      "6                    45.6                       NaN   \n",
      "7                    44.1                       NaN   \n",
      "8                      79                       NaN   \n",
      "9                     NaN                       NaN   \n",
      "\n",
      "  LA.Volume.Index.by.M.Mode..1. LVOT.VTI E.wave.Velocity A.wave.Velocity   DT  \\\n",
      "0                           NaN      NaN             0.3            0.46  NaN   \n",
      "1                           NaN      NaN            0.53            0.58  101   \n",
      "2                          40.3      NaN            0.65            1.11  376   \n",
      "3                          21.4      NaN            0.83            0.45  138   \n",
      "4                          23.8       13            0.34            0.76  NaN   \n",
      "5                          34.4      NaN            0.59            0.85  279   \n",
      "6                          31.4      NaN            0.52            0.79  206   \n",
      "7                          25.3      NaN             0.3            0.48  237   \n",
      "8                          42.9      NaN            0.91            0.52  143   \n",
      "9                           NaN      NaN            0.62             0.4  228   \n",
      "\n",
      "   TV.TR.jet  Right.Ventricular.Peak.Systolic.Pressure.RVSP   RAP   S.   E.  \\\n",
      "0       1.95                                           30.0   NaN    5    3   \n",
      "1       2.34                                           32.0  10.0    5    4   \n",
      "2       2.43                                           34.0  10.0    4    4   \n",
      "3       2.58                                           32.0   NaN  6.7  8.7   \n",
      "4       1.23                                           16.0  10.0    7    4   \n",
      "5       2.88                                           38.0   NaN    5    6   \n",
      "6       2.32                                           32.0  10.0    9    5   \n",
      "7       2.43                                           29.0   NaN    8    7   \n",
      "8       2.71                                           44.0   NaN    7    9   \n",
      "9       2.70                                           40.0  10.0    8   10   \n",
      "\n",
      "     A.   E.E.   BirthDate  AlsUnitNo AfibFirstDx  age  afib        BMI  \\\n",
      "0     4  10.00  1953-06-04    9064083         NaN   65     0  19.713322   \n",
      "1     6  13.25  1952-01-19    6468481         NaN   66     0  24.654832   \n",
      "2     7  16.25  1946-12-08    5014832         NaN   71     0  24.977043   \n",
      "3  11.2   9.54  1970-03-10    4342998         NaN   48     0  24.691358   \n",
      "4     6   8.50  1948-03-05    2397089         NaN   69     0  24.447279   \n",
      "5     8   9.00  1942-05-07    2630237         NaN   75     0  22.971938   \n",
      "6    12  10.00  1942-01-19    1970195         NaN   74     0  18.359375   \n",
      "7     9   4.29  1957-08-18    2163454  2019-12-12   59     0  25.217359   \n",
      "8     7  10.00  1962-08-25    3945152         NaN   53     0  26.175195   \n",
      "9     7   6.20  1965-08-19    3244573         NaN   50     0  19.834711   \n",
      "\n",
      "      PASP  BMI_30  age_60  EE_9  PASP_35  prob_H2FPEF  score_H2FPEF  \\\n",
      "0  15.2100       0       1     0      0.0    11.582670             1   \n",
      "1  21.9024       0       1     0      0.0    32.840833             1   \n",
      "2  23.6196       0       1     0      0.0    47.478992             1   \n",
      "3  26.6256       0       0     1      0.0    16.874480             1   \n",
      "4   6.0516       0       1     0      0.0    13.718723             1   \n",
      "5  33.1776       0       1     0      0.0    42.363112             1   \n",
      "6  21.5296       0       1     0      0.0    18.633035             1   \n",
      "7  23.6196       0       0     0      0.0    16.247906             0   \n",
      "8  29.3764       0       0     0      0.0    27.007299             0   \n",
      "9  29.1600       0       0     0      0.0     9.173479             0   \n",
      "\n",
      "  level_H2FPEF  \n",
      "0          0-1  \n",
      "1          0-1  \n",
      "2          0-1  \n",
      "3          0-1  \n",
      "4          0-1  \n",
      "5          0-1  \n",
      "6          0-1  \n",
      "7          0-1  \n",
      "8          0-1  \n",
      "9          0-1  \n"
     ]
    }
   ],
   "source": [
    "pd.set_option('display.max_columns', 501)\n",
    "df = score_data.iloc[0:10]\n",
    "print(df)"
   ]
  },
  {
   "cell_type": "code",
   "execution_count": 14,
   "id": "033326c0",
   "metadata": {},
   "outputs": [
    {
     "name": "stdout",
     "output_type": "stream",
     "text": [
      "[[0 0]\n",
      " [0 0]\n",
      " [0 0]\n",
      " ...\n",
      " [1 0]\n",
      " [0 1]\n",
      " [0 0]]\n"
     ]
    }
   ],
   "source": [
    "crit_file_root = './fname_crit_pair.csv'\n",
    "df = pd.read_csv(crit_file_root, index_col=0)\n",
    "df = df.query(\"batch_no==0\")\n",
    "df = df[['BMI', 'afib']]\n",
    "print(df)"
   ]
  },
  {
   "cell_type": "code",
   "execution_count": null,
   "id": "dd74ef6d",
   "metadata": {},
   "outputs": [],
   "source": []
  }
 ],
 "metadata": {
  "kernelspec": {
   "display_name": "Python 3 (ipykernel)",
   "language": "python",
   "name": "python3"
  },
  "language_info": {
   "codemirror_mode": {
    "name": "ipython",
    "version": 3
   },
   "file_extension": ".py",
   "mimetype": "text/x-python",
   "name": "python",
   "nbconvert_exporter": "python",
   "pygments_lexer": "ipython3",
   "version": "3.9.15"
  }
 },
 "nbformat": 4,
 "nbformat_minor": 5
}
