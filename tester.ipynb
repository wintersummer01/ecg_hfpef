{
 "cells": [
  {
   "cell_type": "code",
   "execution_count": 1,
   "id": "dd7edf0e",
   "metadata": {},
   "outputs": [
    {
     "name": "stderr",
     "output_type": "stream",
     "text": [
      "2023-08-14 05:57:32.626362: I tensorflow/core/util/port.cc:110] oneDNN custom operations are on. You may see slightly different numerical results due to floating-point round-off errors from different computation orders. To turn them off, set the environment variable `TF_ENABLE_ONEDNN_OPTS=0`.\n",
      "2023-08-14 05:57:32.677876: I tensorflow/core/platform/cpu_feature_guard.cc:182] This TensorFlow binary is optimized to use available CPU instructions in performance-critical operations.\n",
      "To enable the following instructions: AVX2 AVX512F AVX512_VNNI FMA, in other operations, rebuild TensorFlow with the appropriate compiler flags.\n",
      "2023-08-14 05:57:33.420276: W tensorflow/compiler/tf2tensorrt/utils/py_utils.cc:38] TF-TRT Warning: Could not find TensorRT\n",
      "2023-08-14 05:57:34.446557: I tensorflow/compiler/xla/stream_executor/cuda/cuda_gpu_executor.cc:995] successful NUMA node read from SysFS had negative value (-1), but there must be at least one NUMA node, so returning NUMA node zero. See more at https://github.com/torvalds/linux/blob/v6.0/Documentation/ABI/testing/sysfs-bus-pci#L344-L355\n"
     ]
    },
    {
     "name": "stdout",
     "output_type": "stream",
     "text": [
      "(<_FlatMapDataset element_spec=(TensorSpec(shape=(5000, 12), dtype=tf.float32, name=None), TensorSpec(shape=(), dtype=tf.float32, name=None))>, <_FlatMapDataset element_spec=(TensorSpec(shape=(5000, 12), dtype=tf.float32, name=None), TensorSpec(shape=(), dtype=tf.float32, name=None))>)\n"
     ]
    },
    {
     "name": "stderr",
     "output_type": "stream",
     "text": [
      "2023-08-14 05:57:34.485821: I tensorflow/compiler/xla/stream_executor/cuda/cuda_gpu_executor.cc:995] successful NUMA node read from SysFS had negative value (-1), but there must be at least one NUMA node, so returning NUMA node zero. See more at https://github.com/torvalds/linux/blob/v6.0/Documentation/ABI/testing/sysfs-bus-pci#L344-L355\n",
      "2023-08-14 05:57:34.487424: I tensorflow/compiler/xla/stream_executor/cuda/cuda_gpu_executor.cc:995] successful NUMA node read from SysFS had negative value (-1), but there must be at least one NUMA node, so returning NUMA node zero. See more at https://github.com/torvalds/linux/blob/v6.0/Documentation/ABI/testing/sysfs-bus-pci#L344-L355\n",
      "2023-08-14 05:57:34.490023: I tensorflow/compiler/xla/stream_executor/cuda/cuda_gpu_executor.cc:995] successful NUMA node read from SysFS had negative value (-1), but there must be at least one NUMA node, so returning NUMA node zero. See more at https://github.com/torvalds/linux/blob/v6.0/Documentation/ABI/testing/sysfs-bus-pci#L344-L355\n",
      "2023-08-14 05:57:34.491608: I tensorflow/compiler/xla/stream_executor/cuda/cuda_gpu_executor.cc:995] successful NUMA node read from SysFS had negative value (-1), but there must be at least one NUMA node, so returning NUMA node zero. See more at https://github.com/torvalds/linux/blob/v6.0/Documentation/ABI/testing/sysfs-bus-pci#L344-L355\n",
      "2023-08-14 05:57:34.493135: I tensorflow/compiler/xla/stream_executor/cuda/cuda_gpu_executor.cc:995] successful NUMA node read from SysFS had negative value (-1), but there must be at least one NUMA node, so returning NUMA node zero. See more at https://github.com/torvalds/linux/blob/v6.0/Documentation/ABI/testing/sysfs-bus-pci#L344-L355\n",
      "2023-08-14 05:57:35.266412: I tensorflow/compiler/xla/stream_executor/cuda/cuda_gpu_executor.cc:995] successful NUMA node read from SysFS had negative value (-1), but there must be at least one NUMA node, so returning NUMA node zero. See more at https://github.com/torvalds/linux/blob/v6.0/Documentation/ABI/testing/sysfs-bus-pci#L344-L355\n",
      "2023-08-14 05:57:35.267365: I tensorflow/compiler/xla/stream_executor/cuda/cuda_gpu_executor.cc:995] successful NUMA node read from SysFS had negative value (-1), but there must be at least one NUMA node, so returning NUMA node zero. See more at https://github.com/torvalds/linux/blob/v6.0/Documentation/ABI/testing/sysfs-bus-pci#L344-L355\n",
      "2023-08-14 05:57:35.268103: I tensorflow/compiler/xla/stream_executor/cuda/cuda_gpu_executor.cc:995] successful NUMA node read from SysFS had negative value (-1), but there must be at least one NUMA node, so returning NUMA node zero. See more at https://github.com/torvalds/linux/blob/v6.0/Documentation/ABI/testing/sysfs-bus-pci#L344-L355\n",
      "2023-08-14 05:57:35.268802: I tensorflow/core/common_runtime/gpu/gpu_device.cc:1639] Created device /job:localhost/replica:0/task:0/device:GPU:0 with 13635 MB memory:  -> device: 0, name: Tesla T4, pci bus id: 0000:00:1e.0, compute capability: 7.5\n"
     ]
    }
   ],
   "source": [
    "from Data.Dataset import getDataset\n",
    "\n",
    "gen = getDataset(0.1)\n",
    "print(gen)"
   ]
  },
  {
   "cell_type": "code",
   "execution_count": 2,
   "id": "afb62097",
   "metadata": {},
   "outputs": [
    {
     "name": "stdout",
     "output_type": "stream",
     "text": [
      "(<tf.Tensor: shape=(32, 5000, 12), dtype=float32, numpy=\n",
      "array([[[   -9.,  -585.,    58., ...,   297.,   283.,  -580.],\n",
      "        [   -9.,  -585.,    58., ...,   297.,   283.,  -580.],\n",
      "        [   -9.,  -585.,    58., ...,   297.,   283.,  -580.],\n",
      "        ...,\n",
      "        [  -92.,   488.,   551., ...,  -198.,  -336.,   534.],\n",
      "        [  -92.,   473.,   566., ...,  -190.,  -328.,   519.],\n",
      "        [ -102.,   439.,   575., ...,  -168.,  -321.,   490.]],\n",
      "\n",
      "       [[  -48.,    -9.,   605., ...,    28.,   -43.,    15.],\n",
      "        [  -48.,    -9.,   605., ...,    28.,   -43.,    15.],\n",
      "        [  -48.,    -9.,   605., ...,    28.,   -43.,    15.],\n",
      "        ...,\n",
      "        [   -9.,    58., -1063., ...,   -24.,   -38.,    62.],\n",
      "        [    0.,    34., -1058., ...,   -17.,   -17.,    34.],\n",
      "        [    9.,    19., -1054., ...,   -14.,     0.,    14.]],\n",
      "\n",
      "       [[    0.,   -29.,   312., ...,    14.,    14.,   -29.],\n",
      "        [    0.,   -29.,   312., ...,    14.,    14.,   -29.],\n",
      "        [    0.,   -29.,   312., ...,    14.,    14.,   -29.],\n",
      "        ...,\n",
      "        [    9.,  -180.,  -976., ...,    85.,    99.,  -184.],\n",
      "        [    9.,  -180.,  -985., ...,    85.,    99.,  -184.],\n",
      "        [   -4.,  -195.,  -995., ...,    99.,    93.,  -193.]],\n",
      "\n",
      "       ...,\n",
      "\n",
      "       [[  -68.,   -68.,    58., ...,    68.,   -34.,   -34.],\n",
      "        [  -68.,   -68.,    58., ...,    68.,   -34.,   -34.],\n",
      "        [  -68.,   -68.,    58., ...,    68.,   -34.,   -34.],\n",
      "        ...,\n",
      "        [    9.,   278.,   268., ...,  -143.,  -130.,   273.],\n",
      "        [   14.,   283.,   273., ...,  -148.,  -127.,   276.],\n",
      "        [   19.,   292.,   278., ...,  -155.,  -127.,   282.]],\n",
      "\n",
      "       [[  -19.,    68.,    39., ...,   -24.,   -53.,    77.],\n",
      "        [  -19.,    68.,    39., ...,   -24.,   -53.,    77.],\n",
      "        [  -19.,    68.,    39., ...,   -24.,   -53.,    77.],\n",
      "        ...,\n",
      "        [ -297.,    24.,  -248., ...,   136.,  -309.,   172.],\n",
      "        [ -297.,    24.,  -248., ...,   136.,  -309.,   172.],\n",
      "        [ -307.,    19.,  -253., ...,   144.,  -316.,   172.]],\n",
      "\n",
      "       [[   29.,    19.,    48., ...,   -24.,    19.,     4.],\n",
      "        [   29.,    19.,    48., ...,   -24.,    19.,     4.],\n",
      "        [   29.,    19.,    48., ...,   -24.,    19.,     4.],\n",
      "        ...,\n",
      "        [   58.,   175.,   331., ...,  -116.,   -29.,   146.],\n",
      "        [   68.,   165.,   326., ...,  -116.,   -14.,   131.],\n",
      "        [   68.,   165.,   322., ...,  -116.,   -14.,   131.]]],\n",
      "      dtype=float32)>, <tf.Tensor: shape=(32,), dtype=float32, numpy=\n",
      "array([1., 1., 1., 1., 1., 1., 1., 0., 0., 0., 1., 1., 3., 0., 1., 1., 2.,\n",
      "       0., 1., 4., 0., 1., 1., 1., 0., 1., 1., 1., 2., 0., 4., 0.],\n",
      "      dtype=float32)>)\n"
     ]
    }
   ],
   "source": [
    "a = gen[0].batch(32)\n",
    "\n",
    "for b in a:\n",
    "    print(b)\n",
    "    break"
   ]
  },
  {
   "cell_type": "code",
   "execution_count": 3,
   "id": "d5443f33",
   "metadata": {},
   "outputs": [
    {
     "ename": "NameError",
     "evalue": "name 'gen' is not defined",
     "output_type": "error",
     "traceback": [
      "\u001b[0;31m---------------------------------------------------------------------------\u001b[0m",
      "\u001b[0;31mNameError\u001b[0m                                 Traceback (most recent call last)",
      "Cell \u001b[0;32mIn[3], line 1\u001b[0m\n\u001b[0;32m----> 1\u001b[0m a \u001b[38;5;241m=\u001b[39m \u001b[43mgen\u001b[49m\u001b[38;5;241m.\u001b[39mto_numpy()\n",
      "\u001b[0;31mNameError\u001b[0m: name 'gen' is not defined"
     ]
    }
   ],
   "source": [
    "a = gen.to_numpy()"
   ]
  },
  {
   "cell_type": "code",
   "execution_count": 5,
   "id": "8bf068b1",
   "metadata": {},
   "outputs": [
    {
     "name": "stdout",
     "output_type": "stream",
     "text": [
      "(5000, 12)\n"
     ]
    }
   ],
   "source": [
    "print(a.shape)"
   ]
  },
  {
   "cell_type": "code",
   "execution_count": 2,
   "id": "1dc411b2",
   "metadata": {},
   "outputs": [
    {
     "name": "stdout",
     "output_type": "stream",
     "text": [
      "Collecting tensorflow\n",
      "  Downloading tensorflow-2.13.0-cp39-cp39-manylinux_2_17_x86_64.manylinux2014_x86_64.whl (524.1 MB)\n",
      "\u001b[2K     \u001b[90m━━━━━━━━━━━━━━━━━━━━━━━━━━━━━━━━━━━━━━━\u001b[0m \u001b[32m524.1/524.1 MB\u001b[0m \u001b[31m2.4 MB/s\u001b[0m eta \u001b[36m0:00:00\u001b[0m00:01\u001b[0m00:01\u001b[0m\n",
      "\u001b[?25hRequirement already satisfied: google-pasta>=0.1.1 in /opt/conda/envs/pytorch/lib/python3.9/site-packages (from tensorflow) (0.2.0)\n",
      "Collecting flatbuffers>=23.1.21\n",
      "  Downloading flatbuffers-23.5.26-py2.py3-none-any.whl (26 kB)\n",
      "Collecting h5py>=2.9.0\n",
      "  Downloading h5py-3.9.0-cp39-cp39-manylinux_2_17_x86_64.manylinux2014_x86_64.whl (4.8 MB)\n",
      "\u001b[2K     \u001b[90m━━━━━━━━━━━━━━━━━━━━━━━━━━━━━━━━━━━━━━━━\u001b[0m \u001b[32m4.8/4.8 MB\u001b[0m \u001b[31m75.4 MB/s\u001b[0m eta \u001b[36m0:00:00\u001b[0mta \u001b[36m0:00:01\u001b[0m\n",
      "\u001b[?25hRequirement already satisfied: packaging in /opt/conda/envs/pytorch/lib/python3.9/site-packages (from tensorflow) (21.3)\n",
      "Collecting gast<=0.4.0,>=0.2.1\n",
      "  Downloading gast-0.4.0-py3-none-any.whl (9.8 kB)\n",
      "Collecting absl-py>=1.0.0\n",
      "  Downloading absl_py-1.4.0-py3-none-any.whl (126 kB)\n",
      "\u001b[2K     \u001b[90m━━━━━━━━━━━━━━━━━━━━━━━━━━━━━━━━━━━━━━\u001b[0m \u001b[32m126.5/126.5 kB\u001b[0m \u001b[31m28.4 MB/s\u001b[0m eta \u001b[36m0:00:00\u001b[0m\n",
      "\u001b[?25hCollecting tensorflow-io-gcs-filesystem>=0.23.1\n",
      "  Downloading tensorflow_io_gcs_filesystem-0.33.0-cp39-cp39-manylinux_2_12_x86_64.manylinux2010_x86_64.whl (2.4 MB)\n",
      "\u001b[2K     \u001b[90m━━━━━━━━━━━━━━━━━━━━━━━━━━━━━━━━━━━━━━━━\u001b[0m \u001b[32m2.4/2.4 MB\u001b[0m \u001b[31m100.2 MB/s\u001b[0m eta \u001b[36m0:00:00\u001b[0m\n",
      "\u001b[?25hRequirement already satisfied: setuptools in /opt/conda/envs/pytorch/lib/python3.9/site-packages (from tensorflow) (65.6.3)\n",
      "Collecting opt-einsum>=2.3.2\n",
      "  Downloading opt_einsum-3.3.0-py3-none-any.whl (65 kB)\n",
      "\u001b[2K     \u001b[90m━━━━━━━━━━━━━━━━━━━━━━━━━━━━━━━━━━━━━━━━\u001b[0m \u001b[32m65.5/65.5 kB\u001b[0m \u001b[31m15.9 MB/s\u001b[0m eta \u001b[36m0:00:00\u001b[0m\n",
      "\u001b[?25hCollecting astunparse>=1.6.0\n",
      "  Downloading astunparse-1.6.3-py2.py3-none-any.whl (12 kB)\n",
      "Collecting keras<2.14,>=2.13.1\n",
      "  Downloading keras-2.13.1-py3-none-any.whl (1.7 MB)\n",
      "\u001b[2K     \u001b[90m━━━━━━━━━━━━━━━━━━━━━━━━━━━━━━━━━━━━━━━━\u001b[0m \u001b[32m1.7/1.7 MB\u001b[0m \u001b[31m104.9 MB/s\u001b[0m eta \u001b[36m0:00:00\u001b[0m\n",
      "\u001b[?25hCollecting tensorflow-estimator<2.14,>=2.13.0\n",
      "  Downloading tensorflow_estimator-2.13.0-py2.py3-none-any.whl (440 kB)\n",
      "\u001b[2K     \u001b[90m━━━━━━━━━━━━━━━━━━━━━━━━━━━━━━━━━━━━━━\u001b[0m \u001b[32m440.8/440.8 kB\u001b[0m \u001b[31m64.5 MB/s\u001b[0m eta \u001b[36m0:00:00\u001b[0m\n",
      "\u001b[?25hCollecting protobuf!=4.21.0,!=4.21.1,!=4.21.2,!=4.21.3,!=4.21.4,!=4.21.5,<5.0.0dev,>=3.20.3\n",
      "  Downloading protobuf-4.24.0-cp37-abi3-manylinux2014_x86_64.whl (311 kB)\n",
      "\u001b[2K     \u001b[90m━━━━━━━━━━━━━━━━━━━━━━━━━━━━━━━━━━━━━━\u001b[0m \u001b[32m311.6/311.6 kB\u001b[0m \u001b[31m41.6 MB/s\u001b[0m eta \u001b[36m0:00:00\u001b[0m\n",
      "\u001b[?25hCollecting tensorboard<2.14,>=2.13\n",
      "  Downloading tensorboard-2.13.0-py3-none-any.whl (5.6 MB)\n",
      "\u001b[2K     \u001b[90m━━━━━━━━━━━━━━━━━━━━━━━━━━━━━━━━━━━━━━━━\u001b[0m \u001b[32m5.6/5.6 MB\u001b[0m \u001b[31m97.8 MB/s\u001b[0m eta \u001b[36m0:00:00\u001b[0m:00:01\u001b[0m\n",
      "\u001b[?25hRequirement already satisfied: termcolor>=1.1.0 in /opt/conda/envs/pytorch/lib/python3.9/site-packages (from tensorflow) (2.1.1)\n",
      "Collecting grpcio<2.0,>=1.24.3\n",
      "  Downloading grpcio-1.57.0-cp39-cp39-manylinux_2_17_x86_64.manylinux2014_x86_64.whl (5.3 MB)\n",
      "\u001b[2K     \u001b[90m━━━━━━━━━━━━━━━━━━━━━━━━━━━━━━━━━━━━━━━━\u001b[0m \u001b[32m5.3/5.3 MB\u001b[0m \u001b[31m108.2 MB/s\u001b[0m eta \u001b[36m0:00:00\u001b[0m00:01\u001b[0m\n",
      "\u001b[?25hCollecting libclang>=13.0.0\n",
      "  Downloading libclang-16.0.6-py2.py3-none-manylinux2010_x86_64.whl (22.9 MB)\n",
      "\u001b[2K     \u001b[90m━━━━━━━━━━━━━━━━━━━━━━━━━━━━━━━━━━━━━━━━\u001b[0m \u001b[32m22.9/22.9 MB\u001b[0m \u001b[31m32.7 MB/s\u001b[0m eta \u001b[36m0:00:00\u001b[0m00:01\u001b[0m00:01\u001b[0m\n",
      "\u001b[?25hCollecting wrapt>=1.11.0\n",
      "  Downloading wrapt-1.15.0-cp39-cp39-manylinux_2_5_x86_64.manylinux1_x86_64.manylinux_2_17_x86_64.manylinux2014_x86_64.whl (78 kB)\n",
      "\u001b[2K     \u001b[90m━━━━━━━━━━━━━━━━━━━━━━━━━━━━━━━━━━━━━━━━\u001b[0m \u001b[32m78.3/78.3 kB\u001b[0m \u001b[31m13.3 MB/s\u001b[0m eta \u001b[36m0:00:00\u001b[0m\n",
      "\u001b[?25hRequirement already satisfied: typing-extensions<4.6.0,>=3.6.6 in /opt/conda/envs/pytorch/lib/python3.9/site-packages (from tensorflow) (4.4.0)\n",
      "Requirement already satisfied: numpy<=1.24.3,>=1.22 in /opt/conda/envs/pytorch/lib/python3.9/site-packages (from tensorflow) (1.23.5)\n",
      "Requirement already satisfied: six>=1.12.0 in /opt/conda/envs/pytorch/lib/python3.9/site-packages (from tensorflow) (1.16.0)\n",
      "Requirement already satisfied: wheel<1.0,>=0.23.0 in /opt/conda/envs/pytorch/lib/python3.9/site-packages (from astunparse>=1.6.0->tensorflow) (0.38.4)\n",
      "Requirement already satisfied: werkzeug>=1.0.1 in /opt/conda/envs/pytorch/lib/python3.9/site-packages (from tensorboard<2.14,>=2.13->tensorflow) (2.2.2)\n",
      "Collecting markdown>=2.6.8\n",
      "  Downloading Markdown-3.4.4-py3-none-any.whl (94 kB)\n",
      "\u001b[2K     \u001b[90m━━━━━━━━━━━━━━━━━━━━━━━━━━━━━━━━━━━━━━━━\u001b[0m \u001b[32m94.2/94.2 kB\u001b[0m \u001b[31m16.8 MB/s\u001b[0m eta \u001b[36m0:00:00\u001b[0m\n",
      "\u001b[?25hRequirement already satisfied: requests<3,>=2.21.0 in /opt/conda/envs/pytorch/lib/python3.9/site-packages (from tensorboard<2.14,>=2.13->tensorflow) (2.28.1)\n",
      "Collecting google-auth<3,>=1.6.3\n",
      "  Downloading google_auth-2.22.0-py2.py3-none-any.whl (181 kB)\n",
      "\u001b[2K     \u001b[90m━━━━━━━━━━━━━━━━━━━━━━━━━━━━━━━━━━━━━━\u001b[0m \u001b[32m181.8/181.8 kB\u001b[0m \u001b[31m26.5 MB/s\u001b[0m eta \u001b[36m0:00:00\u001b[0m\n",
      "\u001b[?25hCollecting tensorboard-data-server<0.8.0,>=0.7.0\n",
      "  Downloading tensorboard_data_server-0.7.1-py3-none-manylinux2014_x86_64.whl (6.6 MB)\n",
      "\u001b[2K     \u001b[90m━━━━━━━━━━━━━━━━━━━━━━━━━━━━━━━━━━━━━━━━\u001b[0m \u001b[32m6.6/6.6 MB\u001b[0m \u001b[31m42.0 MB/s\u001b[0m eta \u001b[36m0:00:00\u001b[0m00:01\u001b[0m00:01\u001b[0m\n",
      "\u001b[?25hCollecting google-auth-oauthlib<1.1,>=0.5\n",
      "  Downloading google_auth_oauthlib-1.0.0-py2.py3-none-any.whl (18 kB)\n",
      "Requirement already satisfied: pyparsing!=3.0.5,>=2.0.2 in /opt/conda/envs/pytorch/lib/python3.9/site-packages (from packaging->tensorflow) (3.0.9)\n",
      "Collecting pyasn1-modules>=0.2.1\n",
      "  Downloading pyasn1_modules-0.3.0-py2.py3-none-any.whl (181 kB)\n",
      "\u001b[2K     \u001b[90m━━━━━━━━━━━━━━━━━━━━━━━━━━━━━━━━━━━━━━\u001b[0m \u001b[32m181.3/181.3 kB\u001b[0m \u001b[31m26.1 MB/s\u001b[0m eta \u001b[36m0:00:00\u001b[0m\n",
      "\u001b[?25hCollecting cachetools<6.0,>=2.0.0\n",
      "  Downloading cachetools-5.3.1-py3-none-any.whl (9.3 kB)\n",
      "Requirement already satisfied: rsa<5,>=3.1.4 in /opt/conda/envs/pytorch/lib/python3.9/site-packages (from google-auth<3,>=1.6.3->tensorboard<2.14,>=2.13->tensorflow) (4.7.2)\n",
      "Requirement already satisfied: urllib3<2.0 in /opt/conda/envs/pytorch/lib/python3.9/site-packages (from google-auth<3,>=1.6.3->tensorboard<2.14,>=2.13->tensorflow) (1.26.13)\n",
      "Collecting requests-oauthlib>=0.7.0\n",
      "  Downloading requests_oauthlib-1.3.1-py2.py3-none-any.whl (23 kB)\n",
      "Requirement already satisfied: importlib-metadata>=4.4 in /opt/conda/envs/pytorch/lib/python3.9/site-packages (from markdown>=2.6.8->tensorboard<2.14,>=2.13->tensorflow) (4.13.0)\n",
      "Requirement already satisfied: charset-normalizer<3,>=2 in /opt/conda/envs/pytorch/lib/python3.9/site-packages (from requests<3,>=2.21.0->tensorboard<2.14,>=2.13->tensorflow) (2.1.1)\n",
      "Requirement already satisfied: idna<4,>=2.5 in /opt/conda/envs/pytorch/lib/python3.9/site-packages (from requests<3,>=2.21.0->tensorboard<2.14,>=2.13->tensorflow) (3.4)\n",
      "Requirement already satisfied: certifi>=2017.4.17 in /opt/conda/envs/pytorch/lib/python3.9/site-packages (from requests<3,>=2.21.0->tensorboard<2.14,>=2.13->tensorflow) (2022.12.7)\n",
      "Requirement already satisfied: MarkupSafe>=2.1.1 in /opt/conda/envs/pytorch/lib/python3.9/site-packages (from werkzeug>=1.0.1->tensorboard<2.14,>=2.13->tensorflow) (2.1.1)\n",
      "Requirement already satisfied: zipp>=0.5 in /opt/conda/envs/pytorch/lib/python3.9/site-packages (from importlib-metadata>=4.4->markdown>=2.6.8->tensorboard<2.14,>=2.13->tensorflow) (3.11.0)\n",
      "Requirement already satisfied: pyasn1<0.6.0,>=0.4.6 in /opt/conda/envs/pytorch/lib/python3.9/site-packages (from pyasn1-modules>=0.2.1->google-auth<3,>=1.6.3->tensorboard<2.14,>=2.13->tensorflow) (0.4.8)\n",
      "Collecting oauthlib>=3.0.0\n",
      "  Downloading oauthlib-3.2.2-py3-none-any.whl (151 kB)\n",
      "\u001b[2K     \u001b[90m━━━━━━━━━━━━━━━━━━━━━━━━━━━━━━━━━━━━━━\u001b[0m \u001b[32m151.7/151.7 kB\u001b[0m \u001b[31m23.6 MB/s\u001b[0m eta \u001b[36m0:00:00\u001b[0m\n",
      "\u001b[?25hInstalling collected packages: libclang, flatbuffers, wrapt, tensorflow-io-gcs-filesystem, tensorflow-estimator, tensorboard-data-server, pyasn1-modules, protobuf, opt-einsum, oauthlib, keras, h5py, grpcio, gast, cachetools, astunparse, absl-py, requests-oauthlib, markdown, google-auth, google-auth-oauthlib, tensorboard, tensorflow\n"
     ]
    },
    {
     "name": "stdout",
     "output_type": "stream",
     "text": [
      "  Attempting uninstall: protobuf\n",
      "    Found existing installation: protobuf 3.20.2\n",
      "    Uninstalling protobuf-3.20.2:\n",
      "      Successfully uninstalled protobuf-3.20.2\n",
      "\u001b[31mERROR: pip's dependency resolver does not currently take into account all the packages that are installed. This behaviour is the source of the following dependency conflicts.\n",
      "sagemaker 2.126.0 requires protobuf<4.0,>=3.1, but you have protobuf 4.24.0 which is incompatible.\u001b[0m\u001b[31m\n",
      "\u001b[0mSuccessfully installed absl-py-1.4.0 astunparse-1.6.3 cachetools-5.3.1 flatbuffers-23.5.26 gast-0.4.0 google-auth-2.22.0 google-auth-oauthlib-1.0.0 grpcio-1.57.0 h5py-3.9.0 keras-2.13.1 libclang-16.0.6 markdown-3.4.4 oauthlib-3.2.2 opt-einsum-3.3.0 protobuf-4.24.0 pyasn1-modules-0.3.0 requests-oauthlib-1.3.1 tensorboard-2.13.0 tensorboard-data-server-0.7.1 tensorflow-2.13.0 tensorflow-estimator-2.13.0 tensorflow-io-gcs-filesystem-0.33.0 wrapt-1.15.0\n"
     ]
    }
   ],
   "source": [
    "!pip install tensorflow"
   ]
  },
  {
   "cell_type": "code",
   "execution_count": 4,
   "id": "e481f938",
   "metadata": {},
   "outputs": [
    {
     "name": "stdout",
     "output_type": "stream",
     "text": [
      "tf.Tensor(\n",
      "[[  -9. -585.   58. ...  297.  283. -580.]\n",
      " [  -9. -585.   58. ...  297.  283. -580.]\n",
      " [  -9. -585.   58. ...  297.  283. -580.]\n",
      " ...\n",
      " [ -92.  488.  551. ... -198. -336.  534.]\n",
      " [ -92.  473.  566. ... -190. -328.  519.]\n",
      " [-102.  439.  575. ... -168. -321.  490.]], shape=(5000, 12), dtype=float32) 1.0\n",
      "(<tf.Tensor: shape=(5000, 12), dtype=float32, numpy=\n",
      "array([[  -9., -585.,   58., ...,  297.,  283., -580.],\n",
      "       [  -9., -585.,   58., ...,  297.,  283., -580.],\n",
      "       [  -9., -585.,   58., ...,  297.,  283., -580.],\n",
      "       ...,\n",
      "       [ -92.,  488.,  551., ..., -198., -336.,  534.],\n",
      "       [ -92.,  473.,  566., ..., -190., -328.,  519.],\n",
      "       [-102.,  439.,  575., ..., -168., -321.,  490.]], dtype=float32)>, 1.0)\n"
     ]
    }
   ],
   "source": [
    "from Data.Dataset import getDatasetGenerator\n",
    "import pandas as pd\n",
    "\n",
    "csv = pd.read_csv(dirs)\n",
    "gg = getDatasetGenerator(csv, dir_)\n",
    "for i in gg:\n",
    "    print(i)\n",
    "    break"
   ]
  },
  {
   "cell_type": "code",
   "execution_count": 1,
   "id": "1a53a348",
   "metadata": {},
   "outputs": [
    {
     "name": "stderr",
     "output_type": "stream",
     "text": [
      "2023-08-15 12:52:52.367056: I tensorflow/core/util/port.cc:110] oneDNN custom operations are on. You may see slightly different numerical results due to floating-point round-off errors from different computation orders. To turn them off, set the environment variable `TF_ENABLE_ONEDNN_OPTS=0`.\n",
      "2023-08-15 12:52:52.418695: I tensorflow/core/platform/cpu_feature_guard.cc:182] This TensorFlow binary is optimized to use available CPU instructions in performance-critical operations.\n",
      "To enable the following instructions: AVX2 AVX512F AVX512_VNNI FMA, in other operations, rebuild TensorFlow with the appropriate compiler flags.\n",
      "2023-08-15 12:52:53.243614: W tensorflow/compiler/tf2tensorrt/utils/py_utils.cc:38] TF-TRT Warning: Could not find TensorRT\n",
      "2023-08-15 12:52:54.502966: I tensorflow/compiler/xla/stream_executor/cuda/cuda_gpu_executor.cc:995] successful NUMA node read from SysFS had negative value (-1), but there must be at least one NUMA node, so returning NUMA node zero. See more at https://github.com/torvalds/linux/blob/v6.0/Documentation/ABI/testing/sysfs-bus-pci#L344-L355\n",
      "2023-08-15 12:52:54.544341: I tensorflow/compiler/xla/stream_executor/cuda/cuda_gpu_executor.cc:995] successful NUMA node read from SysFS had negative value (-1), but there must be at least one NUMA node, so returning NUMA node zero. See more at https://github.com/torvalds/linux/blob/v6.0/Documentation/ABI/testing/sysfs-bus-pci#L344-L355\n",
      "2023-08-15 12:52:54.546364: I tensorflow/compiler/xla/stream_executor/cuda/cuda_gpu_executor.cc:995] successful NUMA node read from SysFS had negative value (-1), but there must be at least one NUMA node, so returning NUMA node zero. See more at https://github.com/torvalds/linux/blob/v6.0/Documentation/ABI/testing/sysfs-bus-pci#L344-L355\n",
      "2023-08-15 12:52:54.549305: I tensorflow/compiler/xla/stream_executor/cuda/cuda_gpu_executor.cc:995] successful NUMA node read from SysFS had negative value (-1), but there must be at least one NUMA node, so returning NUMA node zero. See more at https://github.com/torvalds/linux/blob/v6.0/Documentation/ABI/testing/sysf"
     ]
    },
    {
     "name": "stdout",
     "output_type": "stream",
     "text": [
      "(<tf.Tensor: shape=(4, 2, 3), dtype=float32, numpy=\n",
      "array([[[0.93356097, 0.35017335, 0.3131076 ],\n",
      "        [0.80464005, 0.4721061 , 0.76046073]],\n",
      "\n",
      "       [[0.93356097, 0.35017335, 0.3131076 ],\n",
      "        [0.80464005, 0.4721061 , 0.76046073]],\n",
      "\n",
      "       [[0.93356097, 0.35017335, 0.3131076 ],\n",
      "        [0.80464005, 0.4721061 , 0.76046073]],\n",
      "\n",
      "       [[0.93356097, 0.35017335, 0.3131076 ],\n",
      "        [0.80464005, 0.4721061 , 0.76046073]]], dtype=float32)>, <tf.Tensor: shape=(4,), dtype=float32, numpy=array([3., 3., 3., 3.], dtype=float32)>)\n",
      "(<tf.Tensor: shape=(4, 2, 3), dtype=float32, numpy=\n",
      "array([[[0.93356097, 0.35017335, 0.3131076 ],\n",
      "        [0.80464005, 0.4721061 , 0.76046073]],\n",
      "\n",
      "       [[0.93356097, 0.35017335, 0.3131076 ],\n",
      "        [0.80464005, 0.4721061 , 0.76046073]],\n",
      "\n",
      "       [[0.93356097, 0.35017335, 0.3131076 ],\n",
      "        [0.80464005, 0.4721061 , 0.76046073]],\n",
      "\n",
      "       [[0.93356097, 0.35017335, 0.3131076 ],\n",
      "        [0.80464005, 0.4721061 , 0.76046073]]], dtype=float32)>, <tf.Tensor: shape=(4,), dtype=float32, numpy=array([3., 3., 3., 3.], dtype=float32)>)\n",
      "(<tf.Tensor: shape=(2, 2, 3), dtype=float32, numpy=\n",
      "array([[[0.93356097, 0.35017335, 0.3131076 ],\n",
      "        [0.80464005, 0.4721061 , 0.76046073]],\n",
      "\n",
      "       [[0.93356097, 0.35017335, 0.3131076 ],\n",
      "        [0.80464005, 0.4721061 , 0.76046073]]], dtype=float32)>, <tf.Tensor: shape=(2,), dtype=float32, numpy=array([3., 3.], dtype=float32)>)\n"
     ]
    },
    {
     "name": "stderr",
     "output_type": "stream",
     "text": [
      "s-bus-pci#L344-L355\n",
      "2023-08-15 12:52:54.551234: I tensorflow/compiler/xla/stream_executor/cuda/cuda_gpu_executor.cc:995] successful NUMA node read from SysFS had negative value (-1), but there must be at least one NUMA node, so returning NUMA node zero. See more at https://github.com/torvalds/linux/blob/v6.0/Documentation/ABI/testing/sysfs-bus-pci#L344-L355\n",
      "2023-08-15 12:52:54.553104: I tensorflow/compiler/xla/stream_executor/cuda/cuda_gpu_executor.cc:995] successful NUMA node read from SysFS had negative value (-1), but there must be at least one NUMA node, so returning NUMA node zero. See more at https://github.com/torvalds/linux/blob/v6.0/Documentation/ABI/testing/sysfs-bus-pci#L344-L355\n",
      "2023-08-15 12:52:55.331676: I tensorflow/compiler/xla/stream_executor/cuda/cuda_gpu_executor.cc:995] successful NUMA node read from SysFS had negative value (-1), but there must be at least one NUMA node, so returning NUMA node zero. See more at https://github.com/torvalds/linux/blob/v6.0/Documentation/ABI/testing/sysfs-bus-pci#L344-L355\n",
      "2023-08-15 12:52:55.332643: I tensorflow/compiler/xla/stream_executor/cuda/cuda_gpu_executor.cc:995] successful NUMA node read from SysFS had negative value (-1), but there must be at least one NUMA node, so returning NUMA node zero. See more at https://github.com/torvalds/linux/blob/v6.0/Documentation/ABI/testing/sysfs-bus-pci#L344-L355\n",
      "2023-08-15 12:52:55.333391: I tensorflow/compiler/xla/stream_executor/cuda/cuda_gpu_executor.cc:995] successful NUMA node read from SysFS had negative value (-1), but there must be at least one NUMA node, so returning NUMA node zero. See more at https://github.com/torvalds/linux/blob/v6.0/Documentation/ABI/testing/sysfs-bus-pci#L344-L355\n",
      "2023-08-15 12:52:55.334096: I tensorflow/core/common_runtime/gpu/gpu_device.cc:1639] Created device /job:localhost/replica:0/task:0/device:GPU:0 with 13635 MB memory:  -> device: 0, name: Tesla T4, pci bus id: 0000:00:1e.0, compute capability: 7.5\n"
     ]
    }
   ],
   "source": [
    "import tensorflow as tf\n",
    "\n",
    "def datagen(shape, y):\n",
    "    data = tf.random.uniform(shape)\n",
    "    for i in range(10):\n",
    "        yield data, y\n",
    "        \n",
    "size = [2, 3]\n",
    "\n",
    "dataset = tf.data.Dataset.from_generator(\n",
    "    datagen,\n",
    "    output_signature=(\n",
    "        tf.TensorSpec(shape=size, dtype=tf.float32),\n",
    "        tf.TensorSpec(shape=(), dtype=tf.float32)\n",
    "    ),\n",
    "    args=(size, 3)\n",
    ")\n",
    "\n",
    "for i, data in enumerate(dataset.batch(4)):\n",
    "    print(data)\n",
    "    if i == 2:\n",
    "        break"
   ]
  },
  {
   "cell_type": "code",
   "execution_count": 5,
   "id": "2a07c374",
   "metadata": {},
   "outputs": [
    {
     "name": "stdout",
     "output_type": "stream",
     "text": [
      "tf.Tensor(\n",
      "[[[0.9386937  0.41475663 0.905205  ]\n",
      "  [0.6664013  0.36811092 0.14399697]]\n",
      "\n",
      " [[0.9386937  0.41475663 0.905205  ]\n",
      "  [0.6664013  0.36811092 0.14399697]]\n",
      "\n",
      " [[0.9386937  0.41475663 0.905205  ]\n",
      "  [0.6664013  0.36811092 0.14399697]]\n",
      "\n",
      " [[0.9386937  0.41475663 0.905205  ]\n",
      "  [0.6664013  0.36811092 0.14399697]]], shape=(4, 2, 3), dtype=float32)\n",
      "tf.Tensor(\n",
      "[[[0.9386937  0.41475663 0.905205  ]\n",
      "  [0.6664013  0.36811092 0.14399697]]\n",
      "\n",
      " [[0.9386937  0.41475663 0.905205  ]\n",
      "  [0.6664013  0.36811092 0.14399697]]\n",
      "\n",
      " [[0.9386937  0.41475663 0.905205  ]\n",
      "  [0.6664013  0.36811092 0.14399697]]\n",
      "\n",
      " [[0.9386937  0.41475663 0.905205  ]\n",
      "  [0.6664013  0.36811092 0.14399697]]], shape=(4, 2, 3), dtype=float32)\n",
      "tf.Tensor(\n",
      "[[[0.9386937  0.41475663 0.905205  ]\n",
      "  [0.6664013  0.36811092 0.14399697]]\n",
      "\n",
      " [[0.9386937  0.41475663 0.905205  ]\n",
      "  [0.6664013  0.36811092 0.14399697]]], shape=(2, 2, 3), dtype=float32)\n"
     ]
    }
   ],
   "source": [
    "from keras import layers, Model\n",
    "\n",
    "class dd(Model):\n",
    "    def __init__(self):\n",
    "        super().__init__()\n",
    "        self.bn = layers.BatchNormalization()\n",
    "        \n",
    "    def call(self, x):\n",
    "        return self.bn(x)\n",
    "    \n",
    "dj = dd()\n",
    "for d in dataset.batch(4):\n",
    "    print(dj(d[0]))"
   ]
  },
  {
   "cell_type": "code",
   "execution_count": null,
   "id": "8db5c49c",
   "metadata": {},
   "outputs": [],
   "source": [
    "#%%\n",
    "import tensorflow as tf\n",
    "\n",
    "x = tf.cast([[[[[1]]]]], tf.int32)\n",
    "y = x\n",
    "x += 1\n",
    "\n",
    "print(x, y)\n",
    "\n",
    "# %%\n",
    "import tensorflow as tf\n",
    "from keras import layers, Model\n",
    "\n",
    "class testtt(Model):\n",
    "    def __init__(self):\n",
    "        super().__init__()\n",
    "        # self.layer = layers.BatchNormalization()\n",
    "        # self.layer2 = layers.LayerNormalization(epsilon=0.00001)\n",
    "        # self.relu = layers.ReLU()\n",
    "        self.dropout = layers.Dropout(rate=0.5)\n",
    "    \n",
    "    def call(self, x):\n",
    "        # x = self.layer(x, training=True)\n",
    "        # x = self.layer2(x)\n",
    "        # x = self.relu(x)\n",
    "        x = self.dropout(x)\n",
    "        return x\n",
    "    \n",
    "j = testtt()\n",
    "i = tf.random.uniform([5, 32, 32, 3])\n",
    "i = tf.random.uniform([3, 2])\n",
    "ans = tf.zeros([3, 2])\n",
    "opt = tf.optimizers.SGD()\n",
    "print(i)\n",
    "print(j(i))\n",
    "# printweight(j.weights)\n",
    "# j.compile(optimizer=\"sgd\", loss=\"mse\")\n",
    "# j.fit(i, ans, epochs=2)\n",
    "\n",
    "# with tf.GradientTape() as tape:\n",
    "#     k = j(i)\n",
    "#     loss = tf.losses.mean_squared_error(k, ans)\n",
    "# grad = tape.gradient(loss, j.trainable_weights)\n",
    "# opt.apply_gradients(zip(grad, j.trainable_weights))\n",
    "# print(k)\n",
    "\n",
    "def printweight(weight):\n",
    "    print(\"##\")\n",
    "    for w in weight:\n",
    "        print(w)\n",
    "\n",
    "printweight(j.weights)\n",
    "printweight(j.trainable_weights)\n",
    "\n",
    "# %%\n",
    "import torch\n",
    "layer = torch.nn.BatchNorm1d(2)\n",
    "x = torch.rand([2, 3, 3])\n",
    "y = layer(x)\n",
    "print(x)\n",
    "print(y)\n",
    "\n",
    "# %%\n",
    "import numpy as np\n",
    "a = np.random.random([4, 5, 6])\n",
    "for i in a:\n",
    "    print(i)\n",
    "# %%\n",
    "\n",
    "def jj(a, b, c):\n",
    "    print(a+b+c)\n",
    "\n",
    "def jojo(d, **kwargs):\n",
    "    print(d)\n",
    "    jj(**kwargs)\n",
    "\n",
    "dic = {'a':1, 'b':2, 'c':4, 'd':8}\n",
    "\n",
    "jojo(**dic)\n",
    "# %%"
   ]
  },
  {
   "cell_type": "code",
   "execution_count": 4,
   "id": "bfb60a2c",
   "metadata": {},
   "outputs": [
    {
     "data": {
      "text/plain": [
       "3.5"
      ]
     },
     "execution_count": 4,
     "metadata": {},
     "output_type": "execute_result"
    }
   ],
   "source": [
    "import numpy as np\n",
    "\n",
    "\n",
    "np.mean([3, 4])"
   ]
  },
  {
   "cell_type": "code",
   "execution_count": 22,
   "id": "fac81391",
   "metadata": {},
   "outputs": [
    {
     "name": "stdout",
     "output_type": "stream",
     "text": [
      "4.0\n"
     ]
    }
   ],
   "source": [
    "import tensorflow as tf\n",
    "\n",
    "a = [2]\n",
    "a = tf.cast(a, tf.float32)\n",
    "a = float(a)\n",
    "print(a + a)"
   ]
  },
  {
   "cell_type": "code",
   "execution_count": 23,
   "id": "7e2de874",
   "metadata": {},
   "outputs": [
    {
     "name": "stdout",
     "output_type": "stream",
     "text": [
      "2023-08-14 08:32:20.499494: I tensorflow/core/util/port.cc:110] oneDNN custom operations are on. You may see slightly different numerical results due to floating-point round-off errors from different computation orders. To turn them off, set the environment variable `TF_ENABLE_ONEDNN_OPTS=0`.\n",
      "2023-08-14 08:32:20.549641: I tensorflow/core/platform/cpu_feature_guard.cc:182] This TensorFlow binary is optimized to use available CPU instructions in performance-critical operations.\n",
      "To enable the following instructions: AVX2 AVX512F AVX512_VNNI FMA, in other operations, rebuild TensorFlow with the appropriate compiler flags.\n",
      "2023-08-14 08:32:21.214739: W tensorflow/compiler/tf2tensorrt/utils/py_utils.cc:38] TF-TRT Warning: Could not find TensorRT\n",
      "2023-08-14 08:32:22.430982: I tensorflow/compiler/xla/stream_executor/cuda/cuda_gpu_executor.cc:995] successful NUMA node read from SysFS had negative value (-1), but there must be at least one NUMA node, so returning NUMA node zero. See more at https://github.com/torvalds/linux/blob/v6.0/Documentation/ABI/testing/sysfs-bus-pci#L344-L355\n",
      "2023-08-14 08:32:22.469267: I tensorflow/compiler/xla/stream_executor/cuda/cuda_gpu_executor.cc:995] successful NUMA node read from SysFS had negative value (-1), but there must be at least one NUMA node, so returning NUMA node zero. See more at https://github.com/torvalds/linux/blob/v6.0/Documentation/ABI/testing/sysfs-bus-pci#L344-L355\n",
      "2023-08-14 08:32:22.470055: I tensorflow/compiler/xla/stream_executor/cuda/cuda_gpu_executor.cc:995] successful NUMA node read from SysFS had negative value (-1), but there must be at least one NUMA node, so returning NUMA node zero. See more at https://github.com/torvalds/linux/blob/v6.0/Documentation/ABI/testing/sysfs-bus-pci#L344-L355\n",
      "2023-08-14 08:32:22.471757: I tensorflow/compiler/xla/stream_executor/cuda/cuda_gpu_executor.cc:995] successful NUMA node read from SysFS had negative value (-1), but there must be at least one NUMA node, so returning NUMA node zero. See more at https://github.com/torvalds/linux/blob/v6.0/Documentation/ABI/testing/sysfs-bus-pci#L344-L355\n",
      "2023-08-14 08:32:22.472526: I tensorflow/compiler/xla/stream_executor/cuda/cuda_gpu_executor.cc:995] successful NUMA node read from SysFS had negative value (-1), but there must be at least one NUMA node, so returning NUMA node zero. See more at https://github.com/torvalds/linux/blob/v6.0/Documentation/ABI/testing/sysfs-bus-pci#L344-L355\n",
      "2023-08-14 08:32:22.473252: I tensorflow/compiler/xla/stream_executor/cuda/cuda_gpu_executor.cc:995] successful NUMA node read from SysFS had negative value (-1), but there must be at least one NUMA node, so returning NUMA node zero. See more at https://github.com/torvalds/linux/blob/v6.0/Documentation/ABI/testing/sysfs-bus-pci#L344-L355\n",
      "2023-08-14 08:32:23.272982: I tensorflow/compiler/xla/stream_executor/cuda/cuda_gpu_executor.cc:995] successful NUMA node read from SysFS had negative value (-1), but there must be at least one NUMA node, so returning NUMA node zero. See more at https://github.com/torvalds/linux/blob/v6.0/Documentation/ABI/testing/sysfs-bus-pci#L344-L355\n",
      "2023-08-14 08:32:23.273927: I tensorflow/compiler/xla/stream_executor/cuda/cuda_gpu_executor.cc:995] successful NUMA node read from SysFS had negative value (-1), but there must be at least one NUMA node, so returning NUMA node zero. See more at https://github.com/torvalds/linux/blob/v6.0/Documentation/ABI/testing/sysfs-bus-pci#L344-L355\n",
      "2023-08-14 08:32:23.274683: I tensorflow/compiler/xla/stream_executor/cuda/cuda_gpu_executor.cc:995] successful NUMA node read from SysFS had negative value (-1), but there must be at least one NUMA node, so returning NUMA node zero. See more at https://github.com/torvalds/linux/blob/v6.0/Documentation/ABI/testing/sysfs-bus-pci#L344-L355\n",
      "2023-08-14 08:32:23.275392: I tensorflow/core/common_runtime/gpu/gpu_device.cc:1639] Created device /job:localhost/replica:0/task:0/device:GPU:0 with 544 MB memory:  -> device: 0, name: Tesla T4, pci bus id: 0000:00:1e.0, compute capability: 7.5\n",
      "Epoch 1 training\n",
      "0it [00:00, ?it/s]2023-08-14 08:32:26.077482: E tensorflow/compiler/xla/stream_executor/cuda/cuda_dnn.cc:437] Could not create cudnn handle: CUDNN_STATUS_NOT_INITIALIZED\n",
      "2023-08-14 08:32:26.077560: E tensorflow/compiler/xla/stream_executor/cuda/cuda_dnn.cc:441] Memory usage: 5242880 bytes free, 15699148800 bytes total.\n",
      "2023-08-14 08:32:26.077678: E tensorflow/compiler/xla/stream_executor/cuda/cuda_dnn.cc:451] Possibly insufficient driver version: 515.65.1\n",
      "2023-08-14 08:32:26.077713: W tensorflow/core/framework/op_kernel.cc:1828] OP_REQUIRES failed at conv_ops_impl.h:770 : UNIMPLEMENTED: DNN library is not found.\n",
      "0it [00:02, ?it/s]\n",
      "Traceback (most recent call last):\n",
      "  File \"/home/ubuntu/ecg_hfpef/train.py\", line 59, in <module>\n",
      "    train_model(args.epoch, LEARNING_RATE, VALIDATION_RATE, \\\n",
      "  File \"/home/ubuntu/ecg_hfpef/train.py\", line 27, in train_model\n",
      "    prediction = model(ecg, training=True)\n",
      "  File \"/opt/conda/envs/pytorch/lib/python3.9/site-packages/keras/src/utils/traceback_utils.py\", line 70, in error_handler\n",
      "    raise e.with_traceback(filtered_tb) from None\n",
      "  File \"/home/ubuntu/ecg_hfpef/model/resnet.py\", line 49, in call\n",
      "    x = self.residual_blocks(x)\n",
      "tensorflow.python.framework.errors_impl.UnimplementedError: Exception encountered when calling layer 'conv1d_1' (type Conv1D).\n",
      "\n",
      "{{function_node __wrapped__Conv2D_device_/job:localhost/replica:0/task:0/device:GPU:0}} DNN library is not found. [Op:Conv2D] name: \n",
      "\n",
      "Call arguments received by layer 'conv1d_1' (type Conv1D):\n",
      "  • inputs=tf.Tensor(shape=(64, 5000, 12), dtype=float32)\n"
     ]
    }
   ],
   "source": [
    "!python train.py"
   ]
  },
  {
   "cell_type": "code",
   "execution_count": 1,
   "id": "15e644c2",
   "metadata": {},
   "outputs": [],
   "source": [
    "a = []"
   ]
  },
  {
   "cell_type": "code",
   "execution_count": 5,
   "id": "1901a71b",
   "metadata": {},
   "outputs": [
    {
     "name": "stdout",
     "output_type": "stream",
     "text": [
      "[<tf.Tensor: shape=(2,), dtype=float32, numpy=array([3., 4.], dtype=float32)>, <tf.Tensor: shape=(2,), dtype=float32, numpy=array([3., 4.], dtype=float32)>]\n"
     ]
    }
   ],
   "source": [
    "import tensorflow as tf\n",
    "import numpy as np\n",
    "\n",
    "a = []\n",
    "b = tf.cast([3, 4], tf.float32)\n",
    "a.append(b)\n",
    "a.append(b)\n",
    "print(a)"
   ]
  },
  {
   "cell_type": "code",
   "execution_count": null,
   "id": "33327f7b",
   "metadata": {},
   "outputs": [],
   "source": []
  }
 ],
 "metadata": {
  "kernelspec": {
   "display_name": "Python 3 (ipykernel)",
   "language": "python",
   "name": "python3"
  },
  "language_info": {
   "codemirror_mode": {
    "name": "ipython",
    "version": 3
   },
   "file_extension": ".py",
   "mimetype": "text/x-python",
   "name": "python",
   "nbconvert_exporter": "python",
   "pygments_lexer": "ipython3",
   "version": "3.9.15"
  }
 },
 "nbformat": 4,
 "nbformat_minor": 5
}
